{
 "cells": [
  {
   "cell_type": "markdown",
   "metadata": {},
   "source": [
    "Have you ever wondered when the best time of year to book a hotel room is? Or the optimal length of stay in order to get the best daily rate? What if you wanted to predict whether or not a hotel was likely to receive a disproportionately high number of special requests? This hotel booking dataset can help you explore those questions!\n",
    "\n",
    " This data set contains booking information for a city hotel and a resort hotel, and includes information such as when the booking was made, length of stay, the number of adults, children, and/or babies, and the number of available parking spaces, among other things. All personally identifying information has been removed from the data. \n",
    "\n",
    " Explore and analyze the data to discover important factors that govern the bookings. \n"
   ]
  },
  {
   "cell_type": "markdown",
   "metadata": {},
   "source": [
    "# lets start the project"
   ]
  },
  {
   "cell_type": "markdown",
   "metadata": {},
   "source": [
    " Here in this project we will use various python modules to explore and analyze the Hotel Booking Data to discover important factors that govern the bookings.  we will discuss exploratory data analysis and data visualization of the hotel booking data set \n"
   ]
  },
  {
   "cell_type": "markdown",
   "metadata": {},
   "source": [
    "firstly we import some important library"
   ]
  },
  {
   "cell_type": "code",
   "execution_count": 28,
   "metadata": {},
   "outputs": [],
   "source": [
    "import numpy as np \n",
    "import pandas as pd\n",
    "import seaborn as sns\n",
    "import matplotlib.pyplot as plt\n",
    "%matplotlib inline"
   ]
  },
  {
   "cell_type": "markdown",
   "metadata": {},
   "source": [
    "<b>reading </b> and <b>viewing</b> the hotel booking dataset using pandas read csv method"
   ]
  },
  {
   "cell_type": "code",
   "execution_count": 29,
   "metadata": {},
   "outputs": [
    {
     "data": {
      "text/html": [
       "<div>\n",
       "<style scoped>\n",
       "    .dataframe tbody tr th:only-of-type {\n",
       "        vertical-align: middle;\n",
       "    }\n",
       "\n",
       "    .dataframe tbody tr th {\n",
       "        vertical-align: top;\n",
       "    }\n",
       "\n",
       "    .dataframe thead th {\n",
       "        text-align: right;\n",
       "    }\n",
       "</style>\n",
       "<table border=\"1\" class=\"dataframe\">\n",
       "  <thead>\n",
       "    <tr style=\"text-align: right;\">\n",
       "      <th></th>\n",
       "      <th>hotel</th>\n",
       "      <th>is_canceled</th>\n",
       "      <th>lead_time</th>\n",
       "      <th>arrival_date_year</th>\n",
       "      <th>arrival_date_month</th>\n",
       "      <th>arrival_date_week_number</th>\n",
       "      <th>arrival_date_day_of_month</th>\n",
       "      <th>stays_in_weekend_nights</th>\n",
       "      <th>stays_in_week_nights</th>\n",
       "      <th>adults</th>\n",
       "      <th>...</th>\n",
       "      <th>deposit_type</th>\n",
       "      <th>agent</th>\n",
       "      <th>company</th>\n",
       "      <th>days_in_waiting_list</th>\n",
       "      <th>customer_type</th>\n",
       "      <th>adr</th>\n",
       "      <th>required_car_parking_spaces</th>\n",
       "      <th>total_of_special_requests</th>\n",
       "      <th>reservation_status</th>\n",
       "      <th>reservation_status_date</th>\n",
       "    </tr>\n",
       "  </thead>\n",
       "  <tbody>\n",
       "    <tr>\n",
       "      <th>0</th>\n",
       "      <td>Resort Hotel</td>\n",
       "      <td>0</td>\n",
       "      <td>342</td>\n",
       "      <td>2015</td>\n",
       "      <td>July</td>\n",
       "      <td>27</td>\n",
       "      <td>1</td>\n",
       "      <td>0</td>\n",
       "      <td>0</td>\n",
       "      <td>2</td>\n",
       "      <td>...</td>\n",
       "      <td>No Deposit</td>\n",
       "      <td>NaN</td>\n",
       "      <td>NaN</td>\n",
       "      <td>0</td>\n",
       "      <td>Transient</td>\n",
       "      <td>0.0</td>\n",
       "      <td>0</td>\n",
       "      <td>0</td>\n",
       "      <td>Check-Out</td>\n",
       "      <td>2015-07-01</td>\n",
       "    </tr>\n",
       "    <tr>\n",
       "      <th>1</th>\n",
       "      <td>Resort Hotel</td>\n",
       "      <td>0</td>\n",
       "      <td>737</td>\n",
       "      <td>2015</td>\n",
       "      <td>July</td>\n",
       "      <td>27</td>\n",
       "      <td>1</td>\n",
       "      <td>0</td>\n",
       "      <td>0</td>\n",
       "      <td>2</td>\n",
       "      <td>...</td>\n",
       "      <td>No Deposit</td>\n",
       "      <td>NaN</td>\n",
       "      <td>NaN</td>\n",
       "      <td>0</td>\n",
       "      <td>Transient</td>\n",
       "      <td>0.0</td>\n",
       "      <td>0</td>\n",
       "      <td>0</td>\n",
       "      <td>Check-Out</td>\n",
       "      <td>2015-07-01</td>\n",
       "    </tr>\n",
       "    <tr>\n",
       "      <th>2</th>\n",
       "      <td>Resort Hotel</td>\n",
       "      <td>0</td>\n",
       "      <td>7</td>\n",
       "      <td>2015</td>\n",
       "      <td>July</td>\n",
       "      <td>27</td>\n",
       "      <td>1</td>\n",
       "      <td>0</td>\n",
       "      <td>1</td>\n",
       "      <td>1</td>\n",
       "      <td>...</td>\n",
       "      <td>No Deposit</td>\n",
       "      <td>NaN</td>\n",
       "      <td>NaN</td>\n",
       "      <td>0</td>\n",
       "      <td>Transient</td>\n",
       "      <td>75.0</td>\n",
       "      <td>0</td>\n",
       "      <td>0</td>\n",
       "      <td>Check-Out</td>\n",
       "      <td>2015-07-02</td>\n",
       "    </tr>\n",
       "    <tr>\n",
       "      <th>3</th>\n",
       "      <td>Resort Hotel</td>\n",
       "      <td>0</td>\n",
       "      <td>13</td>\n",
       "      <td>2015</td>\n",
       "      <td>July</td>\n",
       "      <td>27</td>\n",
       "      <td>1</td>\n",
       "      <td>0</td>\n",
       "      <td>1</td>\n",
       "      <td>1</td>\n",
       "      <td>...</td>\n",
       "      <td>No Deposit</td>\n",
       "      <td>304.0</td>\n",
       "      <td>NaN</td>\n",
       "      <td>0</td>\n",
       "      <td>Transient</td>\n",
       "      <td>75.0</td>\n",
       "      <td>0</td>\n",
       "      <td>0</td>\n",
       "      <td>Check-Out</td>\n",
       "      <td>2015-07-02</td>\n",
       "    </tr>\n",
       "    <tr>\n",
       "      <th>4</th>\n",
       "      <td>Resort Hotel</td>\n",
       "      <td>0</td>\n",
       "      <td>14</td>\n",
       "      <td>2015</td>\n",
       "      <td>July</td>\n",
       "      <td>27</td>\n",
       "      <td>1</td>\n",
       "      <td>0</td>\n",
       "      <td>2</td>\n",
       "      <td>2</td>\n",
       "      <td>...</td>\n",
       "      <td>No Deposit</td>\n",
       "      <td>240.0</td>\n",
       "      <td>NaN</td>\n",
       "      <td>0</td>\n",
       "      <td>Transient</td>\n",
       "      <td>98.0</td>\n",
       "      <td>0</td>\n",
       "      <td>1</td>\n",
       "      <td>Check-Out</td>\n",
       "      <td>2015-07-03</td>\n",
       "    </tr>\n",
       "  </tbody>\n",
       "</table>\n",
       "<p>5 rows × 32 columns</p>\n",
       "</div>"
      ],
      "text/plain": [
       "          hotel  is_canceled  lead_time  arrival_date_year arrival_date_month   \n",
       "0  Resort Hotel            0        342               2015               July  \\\n",
       "1  Resort Hotel            0        737               2015               July   \n",
       "2  Resort Hotel            0          7               2015               July   \n",
       "3  Resort Hotel            0         13               2015               July   \n",
       "4  Resort Hotel            0         14               2015               July   \n",
       "\n",
       "   arrival_date_week_number  arrival_date_day_of_month   \n",
       "0                        27                          1  \\\n",
       "1                        27                          1   \n",
       "2                        27                          1   \n",
       "3                        27                          1   \n",
       "4                        27                          1   \n",
       "\n",
       "   stays_in_weekend_nights  stays_in_week_nights  adults  ...  deposit_type   \n",
       "0                        0                     0       2  ...    No Deposit  \\\n",
       "1                        0                     0       2  ...    No Deposit   \n",
       "2                        0                     1       1  ...    No Deposit   \n",
       "3                        0                     1       1  ...    No Deposit   \n",
       "4                        0                     2       2  ...    No Deposit   \n",
       "\n",
       "   agent company days_in_waiting_list customer_type   adr   \n",
       "0    NaN     NaN                    0     Transient   0.0  \\\n",
       "1    NaN     NaN                    0     Transient   0.0   \n",
       "2    NaN     NaN                    0     Transient  75.0   \n",
       "3  304.0     NaN                    0     Transient  75.0   \n",
       "4  240.0     NaN                    0     Transient  98.0   \n",
       "\n",
       "   required_car_parking_spaces  total_of_special_requests  reservation_status   \n",
       "0                            0                          0           Check-Out  \\\n",
       "1                            0                          0           Check-Out   \n",
       "2                            0                          0           Check-Out   \n",
       "3                            0                          0           Check-Out   \n",
       "4                            0                          1           Check-Out   \n",
       "\n",
       "  reservation_status_date  \n",
       "0              2015-07-01  \n",
       "1              2015-07-01  \n",
       "2              2015-07-02  \n",
       "3              2015-07-02  \n",
       "4              2015-07-03  \n",
       "\n",
       "[5 rows x 32 columns]"
      ]
     },
     "execution_count": 29,
     "metadata": {},
     "output_type": "execute_result"
    }
   ],
   "source": [
    "data=pd.read_csv('./Hotel_Bookings.csv')\n",
    "data.head()"
   ]
  },
  {
   "cell_type": "code",
   "execution_count": 30,
   "metadata": {},
   "outputs": [
    {
     "data": {
      "text/plain": [
       "(119390, 32)"
      ]
     },
     "execution_count": 30,
     "metadata": {},
     "output_type": "execute_result"
    }
   ],
   "source": [
    "data.shape"
   ]
  },
  {
   "cell_type": "code",
   "execution_count": 31,
   "metadata": {},
   "outputs": [
    {
     "data": {
      "text/plain": [
       "Index(['hotel', 'is_canceled', 'lead_time', 'arrival_date_year',\n",
       "       'arrival_date_month', 'arrival_date_week_number',\n",
       "       'arrival_date_day_of_month', 'stays_in_weekend_nights',\n",
       "       'stays_in_week_nights', 'adults', 'children', 'babies', 'meal',\n",
       "       'country', 'market_segment', 'distribution_channel',\n",
       "       'is_repeated_guest', 'previous_cancellations',\n",
       "       'previous_bookings_not_canceled', 'reserved_room_type',\n",
       "       'assigned_room_type', 'booking_changes', 'deposit_type', 'agent',\n",
       "       'company', 'days_in_waiting_list', 'customer_type', 'adr',\n",
       "       'required_car_parking_spaces', 'total_of_special_requests',\n",
       "       'reservation_status', 'reservation_status_date'],\n",
       "      dtype='object')"
      ]
     },
     "execution_count": 31,
     "metadata": {},
     "output_type": "execute_result"
    }
   ],
   "source": [
    "data.columns"
   ]
  },
  {
   "cell_type": "code",
   "execution_count": 32,
   "metadata": {},
   "outputs": [
    {
     "name": "stdout",
     "output_type": "stream",
     "text": [
      "<class 'pandas.core.frame.DataFrame'>\n",
      "RangeIndex: 119390 entries, 0 to 119389\n",
      "Data columns (total 32 columns):\n",
      " #   Column                          Non-Null Count   Dtype  \n",
      "---  ------                          --------------   -----  \n",
      " 0   hotel                           119390 non-null  object \n",
      " 1   is_canceled                     119390 non-null  int64  \n",
      " 2   lead_time                       119390 non-null  int64  \n",
      " 3   arrival_date_year               119390 non-null  int64  \n",
      " 4   arrival_date_month              119390 non-null  object \n",
      " 5   arrival_date_week_number        119390 non-null  int64  \n",
      " 6   arrival_date_day_of_month       119390 non-null  int64  \n",
      " 7   stays_in_weekend_nights         119390 non-null  int64  \n",
      " 8   stays_in_week_nights            119390 non-null  int64  \n",
      " 9   adults                          119390 non-null  int64  \n",
      " 10  children                        119386 non-null  float64\n",
      " 11  babies                          119390 non-null  int64  \n",
      " 12  meal                            119390 non-null  object \n",
      " 13  country                         118902 non-null  object \n",
      " 14  market_segment                  119390 non-null  object \n",
      " 15  distribution_channel            119390 non-null  object \n",
      " 16  is_repeated_guest               119390 non-null  int64  \n",
      " 17  previous_cancellations          119390 non-null  int64  \n",
      " 18  previous_bookings_not_canceled  119390 non-null  int64  \n",
      " 19  reserved_room_type              119390 non-null  object \n",
      " 20  assigned_room_type              119390 non-null  object \n",
      " 21  booking_changes                 119390 non-null  int64  \n",
      " 22  deposit_type                    119390 non-null  object \n",
      " 23  agent                           103050 non-null  float64\n",
      " 24  company                         6797 non-null    float64\n",
      " 25  days_in_waiting_list            119390 non-null  int64  \n",
      " 26  customer_type                   119390 non-null  object \n",
      " 27  adr                             119390 non-null  float64\n",
      " 28  required_car_parking_spaces     119390 non-null  int64  \n",
      " 29  total_of_special_requests       119390 non-null  int64  \n",
      " 30  reservation_status              119390 non-null  object \n",
      " 31  reservation_status_date         119390 non-null  object \n",
      "dtypes: float64(4), int64(16), object(12)\n",
      "memory usage: 29.1+ MB\n"
     ]
    }
   ],
   "source": [
    "data.info()"
   ]
  },
  {
   "cell_type": "code",
   "execution_count": 33,
   "metadata": {},
   "outputs": [
    {
     "data": {
      "text/html": [
       "<div>\n",
       "<style scoped>\n",
       "    .dataframe tbody tr th:only-of-type {\n",
       "        vertical-align: middle;\n",
       "    }\n",
       "\n",
       "    .dataframe tbody tr th {\n",
       "        vertical-align: top;\n",
       "    }\n",
       "\n",
       "    .dataframe thead th {\n",
       "        text-align: right;\n",
       "    }\n",
       "</style>\n",
       "<table border=\"1\" class=\"dataframe\">\n",
       "  <thead>\n",
       "    <tr style=\"text-align: right;\">\n",
       "      <th></th>\n",
       "      <th>is_canceled</th>\n",
       "      <th>lead_time</th>\n",
       "      <th>arrival_date_year</th>\n",
       "      <th>arrival_date_week_number</th>\n",
       "      <th>arrival_date_day_of_month</th>\n",
       "      <th>stays_in_weekend_nights</th>\n",
       "      <th>stays_in_week_nights</th>\n",
       "      <th>adults</th>\n",
       "      <th>children</th>\n",
       "      <th>babies</th>\n",
       "      <th>is_repeated_guest</th>\n",
       "      <th>previous_cancellations</th>\n",
       "      <th>previous_bookings_not_canceled</th>\n",
       "      <th>booking_changes</th>\n",
       "      <th>agent</th>\n",
       "      <th>company</th>\n",
       "      <th>days_in_waiting_list</th>\n",
       "      <th>adr</th>\n",
       "      <th>required_car_parking_spaces</th>\n",
       "      <th>total_of_special_requests</th>\n",
       "    </tr>\n",
       "  </thead>\n",
       "  <tbody>\n",
       "    <tr>\n",
       "      <th>count</th>\n",
       "      <td>119390.000000</td>\n",
       "      <td>119390.000000</td>\n",
       "      <td>119390.000000</td>\n",
       "      <td>119390.000000</td>\n",
       "      <td>119390.000000</td>\n",
       "      <td>119390.000000</td>\n",
       "      <td>119390.000000</td>\n",
       "      <td>119390.000000</td>\n",
       "      <td>119386.000000</td>\n",
       "      <td>119390.000000</td>\n",
       "      <td>119390.000000</td>\n",
       "      <td>119390.000000</td>\n",
       "      <td>119390.000000</td>\n",
       "      <td>119390.000000</td>\n",
       "      <td>103050.000000</td>\n",
       "      <td>6797.000000</td>\n",
       "      <td>119390.000000</td>\n",
       "      <td>119390.000000</td>\n",
       "      <td>119390.000000</td>\n",
       "      <td>119390.000000</td>\n",
       "    </tr>\n",
       "    <tr>\n",
       "      <th>mean</th>\n",
       "      <td>0.370416</td>\n",
       "      <td>104.011416</td>\n",
       "      <td>2016.156554</td>\n",
       "      <td>27.165173</td>\n",
       "      <td>15.798241</td>\n",
       "      <td>0.927599</td>\n",
       "      <td>2.500302</td>\n",
       "      <td>1.856403</td>\n",
       "      <td>0.103890</td>\n",
       "      <td>0.007949</td>\n",
       "      <td>0.031912</td>\n",
       "      <td>0.087118</td>\n",
       "      <td>0.137097</td>\n",
       "      <td>0.221124</td>\n",
       "      <td>86.693382</td>\n",
       "      <td>189.266735</td>\n",
       "      <td>2.321149</td>\n",
       "      <td>101.831122</td>\n",
       "      <td>0.062518</td>\n",
       "      <td>0.571363</td>\n",
       "    </tr>\n",
       "    <tr>\n",
       "      <th>std</th>\n",
       "      <td>0.482918</td>\n",
       "      <td>106.863097</td>\n",
       "      <td>0.707476</td>\n",
       "      <td>13.605138</td>\n",
       "      <td>8.780829</td>\n",
       "      <td>0.998613</td>\n",
       "      <td>1.908286</td>\n",
       "      <td>0.579261</td>\n",
       "      <td>0.398561</td>\n",
       "      <td>0.097436</td>\n",
       "      <td>0.175767</td>\n",
       "      <td>0.844336</td>\n",
       "      <td>1.497437</td>\n",
       "      <td>0.652306</td>\n",
       "      <td>110.774548</td>\n",
       "      <td>131.655015</td>\n",
       "      <td>17.594721</td>\n",
       "      <td>50.535790</td>\n",
       "      <td>0.245291</td>\n",
       "      <td>0.792798</td>\n",
       "    </tr>\n",
       "    <tr>\n",
       "      <th>min</th>\n",
       "      <td>0.000000</td>\n",
       "      <td>0.000000</td>\n",
       "      <td>2015.000000</td>\n",
       "      <td>1.000000</td>\n",
       "      <td>1.000000</td>\n",
       "      <td>0.000000</td>\n",
       "      <td>0.000000</td>\n",
       "      <td>0.000000</td>\n",
       "      <td>0.000000</td>\n",
       "      <td>0.000000</td>\n",
       "      <td>0.000000</td>\n",
       "      <td>0.000000</td>\n",
       "      <td>0.000000</td>\n",
       "      <td>0.000000</td>\n",
       "      <td>1.000000</td>\n",
       "      <td>6.000000</td>\n",
       "      <td>0.000000</td>\n",
       "      <td>-6.380000</td>\n",
       "      <td>0.000000</td>\n",
       "      <td>0.000000</td>\n",
       "    </tr>\n",
       "    <tr>\n",
       "      <th>25%</th>\n",
       "      <td>0.000000</td>\n",
       "      <td>18.000000</td>\n",
       "      <td>2016.000000</td>\n",
       "      <td>16.000000</td>\n",
       "      <td>8.000000</td>\n",
       "      <td>0.000000</td>\n",
       "      <td>1.000000</td>\n",
       "      <td>2.000000</td>\n",
       "      <td>0.000000</td>\n",
       "      <td>0.000000</td>\n",
       "      <td>0.000000</td>\n",
       "      <td>0.000000</td>\n",
       "      <td>0.000000</td>\n",
       "      <td>0.000000</td>\n",
       "      <td>9.000000</td>\n",
       "      <td>62.000000</td>\n",
       "      <td>0.000000</td>\n",
       "      <td>69.290000</td>\n",
       "      <td>0.000000</td>\n",
       "      <td>0.000000</td>\n",
       "    </tr>\n",
       "    <tr>\n",
       "      <th>50%</th>\n",
       "      <td>0.000000</td>\n",
       "      <td>69.000000</td>\n",
       "      <td>2016.000000</td>\n",
       "      <td>28.000000</td>\n",
       "      <td>16.000000</td>\n",
       "      <td>1.000000</td>\n",
       "      <td>2.000000</td>\n",
       "      <td>2.000000</td>\n",
       "      <td>0.000000</td>\n",
       "      <td>0.000000</td>\n",
       "      <td>0.000000</td>\n",
       "      <td>0.000000</td>\n",
       "      <td>0.000000</td>\n",
       "      <td>0.000000</td>\n",
       "      <td>14.000000</td>\n",
       "      <td>179.000000</td>\n",
       "      <td>0.000000</td>\n",
       "      <td>94.575000</td>\n",
       "      <td>0.000000</td>\n",
       "      <td>0.000000</td>\n",
       "    </tr>\n",
       "    <tr>\n",
       "      <th>75%</th>\n",
       "      <td>1.000000</td>\n",
       "      <td>160.000000</td>\n",
       "      <td>2017.000000</td>\n",
       "      <td>38.000000</td>\n",
       "      <td>23.000000</td>\n",
       "      <td>2.000000</td>\n",
       "      <td>3.000000</td>\n",
       "      <td>2.000000</td>\n",
       "      <td>0.000000</td>\n",
       "      <td>0.000000</td>\n",
       "      <td>0.000000</td>\n",
       "      <td>0.000000</td>\n",
       "      <td>0.000000</td>\n",
       "      <td>0.000000</td>\n",
       "      <td>229.000000</td>\n",
       "      <td>270.000000</td>\n",
       "      <td>0.000000</td>\n",
       "      <td>126.000000</td>\n",
       "      <td>0.000000</td>\n",
       "      <td>1.000000</td>\n",
       "    </tr>\n",
       "    <tr>\n",
       "      <th>max</th>\n",
       "      <td>1.000000</td>\n",
       "      <td>737.000000</td>\n",
       "      <td>2017.000000</td>\n",
       "      <td>53.000000</td>\n",
       "      <td>31.000000</td>\n",
       "      <td>19.000000</td>\n",
       "      <td>50.000000</td>\n",
       "      <td>55.000000</td>\n",
       "      <td>10.000000</td>\n",
       "      <td>10.000000</td>\n",
       "      <td>1.000000</td>\n",
       "      <td>26.000000</td>\n",
       "      <td>72.000000</td>\n",
       "      <td>21.000000</td>\n",
       "      <td>535.000000</td>\n",
       "      <td>543.000000</td>\n",
       "      <td>391.000000</td>\n",
       "      <td>5400.000000</td>\n",
       "      <td>8.000000</td>\n",
       "      <td>5.000000</td>\n",
       "    </tr>\n",
       "  </tbody>\n",
       "</table>\n",
       "</div>"
      ],
      "text/plain": [
       "         is_canceled      lead_time  arrival_date_year   \n",
       "count  119390.000000  119390.000000      119390.000000  \\\n",
       "mean        0.370416     104.011416        2016.156554   \n",
       "std         0.482918     106.863097           0.707476   \n",
       "min         0.000000       0.000000        2015.000000   \n",
       "25%         0.000000      18.000000        2016.000000   \n",
       "50%         0.000000      69.000000        2016.000000   \n",
       "75%         1.000000     160.000000        2017.000000   \n",
       "max         1.000000     737.000000        2017.000000   \n",
       "\n",
       "       arrival_date_week_number  arrival_date_day_of_month   \n",
       "count             119390.000000              119390.000000  \\\n",
       "mean                  27.165173                  15.798241   \n",
       "std                   13.605138                   8.780829   \n",
       "min                    1.000000                   1.000000   \n",
       "25%                   16.000000                   8.000000   \n",
       "50%                   28.000000                  16.000000   \n",
       "75%                   38.000000                  23.000000   \n",
       "max                   53.000000                  31.000000   \n",
       "\n",
       "       stays_in_weekend_nights  stays_in_week_nights         adults   \n",
       "count            119390.000000         119390.000000  119390.000000  \\\n",
       "mean                  0.927599              2.500302       1.856403   \n",
       "std                   0.998613              1.908286       0.579261   \n",
       "min                   0.000000              0.000000       0.000000   \n",
       "25%                   0.000000              1.000000       2.000000   \n",
       "50%                   1.000000              2.000000       2.000000   \n",
       "75%                   2.000000              3.000000       2.000000   \n",
       "max                  19.000000             50.000000      55.000000   \n",
       "\n",
       "            children         babies  is_repeated_guest   \n",
       "count  119386.000000  119390.000000      119390.000000  \\\n",
       "mean        0.103890       0.007949           0.031912   \n",
       "std         0.398561       0.097436           0.175767   \n",
       "min         0.000000       0.000000           0.000000   \n",
       "25%         0.000000       0.000000           0.000000   \n",
       "50%         0.000000       0.000000           0.000000   \n",
       "75%         0.000000       0.000000           0.000000   \n",
       "max        10.000000      10.000000           1.000000   \n",
       "\n",
       "       previous_cancellations  previous_bookings_not_canceled   \n",
       "count           119390.000000                   119390.000000  \\\n",
       "mean                 0.087118                        0.137097   \n",
       "std                  0.844336                        1.497437   \n",
       "min                  0.000000                        0.000000   \n",
       "25%                  0.000000                        0.000000   \n",
       "50%                  0.000000                        0.000000   \n",
       "75%                  0.000000                        0.000000   \n",
       "max                 26.000000                       72.000000   \n",
       "\n",
       "       booking_changes          agent      company  days_in_waiting_list   \n",
       "count    119390.000000  103050.000000  6797.000000         119390.000000  \\\n",
       "mean          0.221124      86.693382   189.266735              2.321149   \n",
       "std           0.652306     110.774548   131.655015             17.594721   \n",
       "min           0.000000       1.000000     6.000000              0.000000   \n",
       "25%           0.000000       9.000000    62.000000              0.000000   \n",
       "50%           0.000000      14.000000   179.000000              0.000000   \n",
       "75%           0.000000     229.000000   270.000000              0.000000   \n",
       "max          21.000000     535.000000   543.000000            391.000000   \n",
       "\n",
       "                 adr  required_car_parking_spaces  total_of_special_requests  \n",
       "count  119390.000000                119390.000000              119390.000000  \n",
       "mean      101.831122                     0.062518                   0.571363  \n",
       "std        50.535790                     0.245291                   0.792798  \n",
       "min        -6.380000                     0.000000                   0.000000  \n",
       "25%        69.290000                     0.000000                   0.000000  \n",
       "50%        94.575000                     0.000000                   0.000000  \n",
       "75%       126.000000                     0.000000                   1.000000  \n",
       "max      5400.000000                     8.000000                   5.000000  "
      ]
     },
     "execution_count": 33,
     "metadata": {},
     "output_type": "execute_result"
    }
   ],
   "source": [
    "data.describe()"
   ]
  },
  {
   "cell_type": "code",
   "execution_count": 34,
   "metadata": {},
   "outputs": [
    {
     "data": {
      "text/plain": [
       "is_canceled\n",
       "0    75166\n",
       "1    44224\n",
       "Name: count, dtype: int64"
      ]
     },
     "execution_count": 34,
     "metadata": {},
     "output_type": "execute_result"
    }
   ],
   "source": [
    "data['is_canceled'].value_counts()"
   ]
  },
  {
   "cell_type": "code",
   "execution_count": 35,
   "metadata": {},
   "outputs": [
    {
     "data": {
      "text/plain": [
       "int64      16\n",
       "object     12\n",
       "float64     4\n",
       "Name: count, dtype: int64"
      ]
     },
     "execution_count": 35,
     "metadata": {},
     "output_type": "execute_result"
    }
   ],
   "source": [
    "data.dtypes.value_counts()"
   ]
  },
  {
   "cell_type": "markdown",
   "metadata": {},
   "source": [
    "## We see that there are :\n",
    "\n",
    "*4 float64 columns*\n",
    "\n",
    "*16 int64 columns*\n",
    "\n",
    "*12 object columns* \n"
   ]
  },
  {
   "cell_type": "markdown",
   "metadata": {},
   "source": [
    "first of all, we make a copy of our dataset to avoid the dataset"
   ]
  },
  {
   "cell_type": "code",
   "execution_count": 36,
   "metadata": {},
   "outputs": [
    {
     "data": {
      "text/html": [
       "<div>\n",
       "<style scoped>\n",
       "    .dataframe tbody tr th:only-of-type {\n",
       "        vertical-align: middle;\n",
       "    }\n",
       "\n",
       "    .dataframe tbody tr th {\n",
       "        vertical-align: top;\n",
       "    }\n",
       "\n",
       "    .dataframe thead th {\n",
       "        text-align: right;\n",
       "    }\n",
       "</style>\n",
       "<table border=\"1\" class=\"dataframe\">\n",
       "  <thead>\n",
       "    <tr style=\"text-align: right;\">\n",
       "      <th></th>\n",
       "      <th>hotel</th>\n",
       "      <th>is_canceled</th>\n",
       "      <th>lead_time</th>\n",
       "      <th>arrival_date_year</th>\n",
       "      <th>arrival_date_month</th>\n",
       "      <th>arrival_date_week_number</th>\n",
       "      <th>arrival_date_day_of_month</th>\n",
       "      <th>stays_in_weekend_nights</th>\n",
       "      <th>stays_in_week_nights</th>\n",
       "      <th>adults</th>\n",
       "      <th>...</th>\n",
       "      <th>deposit_type</th>\n",
       "      <th>agent</th>\n",
       "      <th>company</th>\n",
       "      <th>days_in_waiting_list</th>\n",
       "      <th>customer_type</th>\n",
       "      <th>adr</th>\n",
       "      <th>required_car_parking_spaces</th>\n",
       "      <th>total_of_special_requests</th>\n",
       "      <th>reservation_status</th>\n",
       "      <th>reservation_status_date</th>\n",
       "    </tr>\n",
       "  </thead>\n",
       "  <tbody>\n",
       "    <tr>\n",
       "      <th>0</th>\n",
       "      <td>Resort Hotel</td>\n",
       "      <td>0</td>\n",
       "      <td>342</td>\n",
       "      <td>2015</td>\n",
       "      <td>July</td>\n",
       "      <td>27</td>\n",
       "      <td>1</td>\n",
       "      <td>0</td>\n",
       "      <td>0</td>\n",
       "      <td>2</td>\n",
       "      <td>...</td>\n",
       "      <td>No Deposit</td>\n",
       "      <td>NaN</td>\n",
       "      <td>NaN</td>\n",
       "      <td>0</td>\n",
       "      <td>Transient</td>\n",
       "      <td>0.0</td>\n",
       "      <td>0</td>\n",
       "      <td>0</td>\n",
       "      <td>Check-Out</td>\n",
       "      <td>2015-07-01</td>\n",
       "    </tr>\n",
       "    <tr>\n",
       "      <th>1</th>\n",
       "      <td>Resort Hotel</td>\n",
       "      <td>0</td>\n",
       "      <td>737</td>\n",
       "      <td>2015</td>\n",
       "      <td>July</td>\n",
       "      <td>27</td>\n",
       "      <td>1</td>\n",
       "      <td>0</td>\n",
       "      <td>0</td>\n",
       "      <td>2</td>\n",
       "      <td>...</td>\n",
       "      <td>No Deposit</td>\n",
       "      <td>NaN</td>\n",
       "      <td>NaN</td>\n",
       "      <td>0</td>\n",
       "      <td>Transient</td>\n",
       "      <td>0.0</td>\n",
       "      <td>0</td>\n",
       "      <td>0</td>\n",
       "      <td>Check-Out</td>\n",
       "      <td>2015-07-01</td>\n",
       "    </tr>\n",
       "    <tr>\n",
       "      <th>2</th>\n",
       "      <td>Resort Hotel</td>\n",
       "      <td>0</td>\n",
       "      <td>7</td>\n",
       "      <td>2015</td>\n",
       "      <td>July</td>\n",
       "      <td>27</td>\n",
       "      <td>1</td>\n",
       "      <td>0</td>\n",
       "      <td>1</td>\n",
       "      <td>1</td>\n",
       "      <td>...</td>\n",
       "      <td>No Deposit</td>\n",
       "      <td>NaN</td>\n",
       "      <td>NaN</td>\n",
       "      <td>0</td>\n",
       "      <td>Transient</td>\n",
       "      <td>75.0</td>\n",
       "      <td>0</td>\n",
       "      <td>0</td>\n",
       "      <td>Check-Out</td>\n",
       "      <td>2015-07-02</td>\n",
       "    </tr>\n",
       "    <tr>\n",
       "      <th>3</th>\n",
       "      <td>Resort Hotel</td>\n",
       "      <td>0</td>\n",
       "      <td>13</td>\n",
       "      <td>2015</td>\n",
       "      <td>July</td>\n",
       "      <td>27</td>\n",
       "      <td>1</td>\n",
       "      <td>0</td>\n",
       "      <td>1</td>\n",
       "      <td>1</td>\n",
       "      <td>...</td>\n",
       "      <td>No Deposit</td>\n",
       "      <td>304.0</td>\n",
       "      <td>NaN</td>\n",
       "      <td>0</td>\n",
       "      <td>Transient</td>\n",
       "      <td>75.0</td>\n",
       "      <td>0</td>\n",
       "      <td>0</td>\n",
       "      <td>Check-Out</td>\n",
       "      <td>2015-07-02</td>\n",
       "    </tr>\n",
       "    <tr>\n",
       "      <th>4</th>\n",
       "      <td>Resort Hotel</td>\n",
       "      <td>0</td>\n",
       "      <td>14</td>\n",
       "      <td>2015</td>\n",
       "      <td>July</td>\n",
       "      <td>27</td>\n",
       "      <td>1</td>\n",
       "      <td>0</td>\n",
       "      <td>2</td>\n",
       "      <td>2</td>\n",
       "      <td>...</td>\n",
       "      <td>No Deposit</td>\n",
       "      <td>240.0</td>\n",
       "      <td>NaN</td>\n",
       "      <td>0</td>\n",
       "      <td>Transient</td>\n",
       "      <td>98.0</td>\n",
       "      <td>0</td>\n",
       "      <td>1</td>\n",
       "      <td>Check-Out</td>\n",
       "      <td>2015-07-03</td>\n",
       "    </tr>\n",
       "  </tbody>\n",
       "</table>\n",
       "<p>5 rows × 32 columns</p>\n",
       "</div>"
      ],
      "text/plain": [
       "          hotel  is_canceled  lead_time  arrival_date_year arrival_date_month   \n",
       "0  Resort Hotel            0        342               2015               July  \\\n",
       "1  Resort Hotel            0        737               2015               July   \n",
       "2  Resort Hotel            0          7               2015               July   \n",
       "3  Resort Hotel            0         13               2015               July   \n",
       "4  Resort Hotel            0         14               2015               July   \n",
       "\n",
       "   arrival_date_week_number  arrival_date_day_of_month   \n",
       "0                        27                          1  \\\n",
       "1                        27                          1   \n",
       "2                        27                          1   \n",
       "3                        27                          1   \n",
       "4                        27                          1   \n",
       "\n",
       "   stays_in_weekend_nights  stays_in_week_nights  adults  ...  deposit_type   \n",
       "0                        0                     0       2  ...    No Deposit  \\\n",
       "1                        0                     0       2  ...    No Deposit   \n",
       "2                        0                     1       1  ...    No Deposit   \n",
       "3                        0                     1       1  ...    No Deposit   \n",
       "4                        0                     2       2  ...    No Deposit   \n",
       "\n",
       "   agent company days_in_waiting_list customer_type   adr   \n",
       "0    NaN     NaN                    0     Transient   0.0  \\\n",
       "1    NaN     NaN                    0     Transient   0.0   \n",
       "2    NaN     NaN                    0     Transient  75.0   \n",
       "3  304.0     NaN                    0     Transient  75.0   \n",
       "4  240.0     NaN                    0     Transient  98.0   \n",
       "\n",
       "   required_car_parking_spaces  total_of_special_requests  reservation_status   \n",
       "0                            0                          0           Check-Out  \\\n",
       "1                            0                          0           Check-Out   \n",
       "2                            0                          0           Check-Out   \n",
       "3                            0                          0           Check-Out   \n",
       "4                            0                          1           Check-Out   \n",
       "\n",
       "  reservation_status_date  \n",
       "0              2015-07-01  \n",
       "1              2015-07-01  \n",
       "2              2015-07-02  \n",
       "3              2015-07-02  \n",
       "4              2015-07-03  \n",
       "\n",
       "[5 rows x 32 columns]"
      ]
     },
     "execution_count": 36,
     "metadata": {},
     "output_type": "execute_result"
    }
   ],
   "source": [
    "data_copy=data.copy()\n",
    "data_copy.head()"
   ]
  },
  {
   "cell_type": "markdown",
   "metadata": {},
   "source": [
    "# <b> Cleaning data </b> \n",
    "\n",
    "Cleaning data is crucial step before Data anlysis as it will remove the ambigous data that can affect our outcome.\n",
    "\n",
    "While cleaning data we will perform following steps: \n",
    "1) Remove duplicate rows  \n",
    "2) Handling missing values.  \n",
    "3) Dropping unimportant columns"
   ]
  },
  {
   "cell_type": "code",
   "execution_count": 37,
   "metadata": {},
   "outputs": [
    {
     "data": {
      "text/plain": [
       "(119390, 32)"
      ]
     },
     "execution_count": 37,
     "metadata": {},
     "output_type": "execute_result"
    }
   ],
   "source": [
    "data.shape"
   ]
  },
  {
   "cell_type": "markdown",
   "metadata": {},
   "source": [
    "## <b>step 1</b>:removing duplicate rows"
   ]
  },
  {
   "cell_type": "code",
   "execution_count": 38,
   "metadata": {},
   "outputs": [
    {
     "data": {
      "text/plain": [
       "(87396, 32)"
      ]
     },
     "execution_count": 38,
     "metadata": {},
     "output_type": "execute_result"
    }
   ],
   "source": [
    "data.drop_duplicates(inplace=True)\n",
    "data.shape"
   ]
  },
  {
   "cell_type": "markdown",
   "metadata": {},
   "source": [
    "## <b>step 2</b>:handling missing values"
   ]
  },
  {
   "cell_type": "code",
   "execution_count": 39,
   "metadata": {},
   "outputs": [
    {
     "data": {
      "text/plain": [
       "company                           82137\n",
       "agent                             12193\n",
       "country                             452\n",
       "children                              4\n",
       "reserved_room_type                    0\n",
       "assigned_room_type                    0\n",
       "booking_changes                       0\n",
       "deposit_type                          0\n",
       "hotel                                 0\n",
       "previous_cancellations                0\n",
       "days_in_waiting_list                  0\n",
       "customer_type                         0\n",
       "adr                                   0\n",
       "required_car_parking_spaces           0\n",
       "total_of_special_requests             0\n",
       "reservation_status                    0\n",
       "previous_bookings_not_canceled        0\n",
       "is_repeated_guest                     0\n",
       "is_canceled                           0\n",
       "distribution_channel                  0\n",
       "market_segment                        0\n",
       "meal                                  0\n",
       "babies                                0\n",
       "adults                                0\n",
       "stays_in_week_nights                  0\n",
       "stays_in_weekend_nights               0\n",
       "arrival_date_day_of_month             0\n",
       "arrival_date_week_number              0\n",
       "arrival_date_month                    0\n",
       "arrival_date_year                     0\n",
       "lead_time                             0\n",
       "reservation_status_date               0\n",
       "dtype: int64"
      ]
     },
     "execution_count": 39,
     "metadata": {},
     "output_type": "execute_result"
    }
   ],
   "source": [
    "data.isnull().sum().sort_values(ascending=False)"
   ]
  },
  {
   "cell_type": "code",
   "execution_count": 40,
   "metadata": {},
   "outputs": [
    {
     "data": {
      "text/html": [
       "<div>\n",
       "<style scoped>\n",
       "    .dataframe tbody tr th:only-of-type {\n",
       "        vertical-align: middle;\n",
       "    }\n",
       "\n",
       "    .dataframe tbody tr th {\n",
       "        vertical-align: top;\n",
       "    }\n",
       "\n",
       "    .dataframe thead tr th {\n",
       "        text-align: left;\n",
       "    }\n",
       "</style>\n",
       "<table border=\"1\" class=\"dataframe\">\n",
       "  <thead>\n",
       "    <tr>\n",
       "      <th></th>\n",
       "      <th>total missing</th>\n",
       "      <th>percentage missing</th>\n",
       "    </tr>\n",
       "    <tr>\n",
       "      <th></th>\n",
       "      <th>0</th>\n",
       "      <th>0</th>\n",
       "    </tr>\n",
       "  </thead>\n",
       "  <tbody>\n",
       "    <tr>\n",
       "      <th>company</th>\n",
       "      <td>82137.0</td>\n",
       "      <td>93.982562</td>\n",
       "    </tr>\n",
       "    <tr>\n",
       "      <th>agent</th>\n",
       "      <td>12193.0</td>\n",
       "      <td>13.951439</td>\n",
       "    </tr>\n",
       "    <tr>\n",
       "      <th>country</th>\n",
       "      <td>452.0</td>\n",
       "      <td>0.517186</td>\n",
       "    </tr>\n",
       "    <tr>\n",
       "      <th>children</th>\n",
       "      <td>4.0</td>\n",
       "      <td>0.004577</td>\n",
       "    </tr>\n",
       "  </tbody>\n",
       "</table>\n",
       "</div>"
      ],
      "text/plain": [
       "         total missing percentage missing\n",
       "                     0                  0\n",
       "company        82137.0          93.982562\n",
       "agent          12193.0          13.951439\n",
       "country          452.0           0.517186\n",
       "children           4.0           0.004577"
      ]
     },
     "execution_count": 40,
     "metadata": {},
     "output_type": "execute_result"
    }
   ],
   "source": [
    "# missing value against each columns \n",
    "total_missing_values=data.isnull().sum().sort_values(ascending=False)\n",
    "total_missing_data=pd.DataFrame(total_missing_values)\n",
    "\n",
    "# percentage of total mising values\n",
    "percentage_missing=((data.isnull().sum()/data.isnull().count())*100).sort_values(ascending=False)\n",
    "missing_values=pd.concat([total_missing_data,percentage_missing],axis=1,keys=['total missing','percentage missing'])\n",
    "\n",
    "# missing data\n",
    "missing_data_without_nan = missing_values[missing_values > 0].dropna()\n",
    "missing_data_without_nan"
   ]
  },
  {
   "cell_type": "markdown",
   "metadata": {},
   "source": [
    "since,<b>company</b> and <b>agent</b> have company number and agent number as data. there may be some cases customer doesn't booked by a company or any agent.so, in that case the values is null under these columns.we replace<b> null values</b> by <b>0</b> on columns."
   ]
  },
  {
   "cell_type": "code",
   "execution_count": 41,
   "metadata": {},
   "outputs": [],
   "source": [
    "data_copy[['company','agent']]=data_copy[['company','agent']].fillna(0)\n"
   ]
  },
  {
   "cell_type": "markdown",
   "metadata": {},
   "source": [
    "Replacing <b>null values </b> of children by <b>0</b>"
   ]
  },
  {
   "cell_type": "code",
   "execution_count": 42,
   "metadata": {},
   "outputs": [],
   "source": [
    "data_copy['children'].replace(np.nan,0,inplace=True)\n",
    "# data_copy['children'].unique()"
   ]
  },
  {
   "cell_type": "markdown",
   "metadata": {},
   "source": [
    "Replacing <b>null values </b> of country by <b>other</b>"
   ]
  },
  {
   "cell_type": "code",
   "execution_count": 43,
   "metadata": {},
   "outputs": [],
   "source": [
    "data_copy['country'].fillna('others', inplace = True)"
   ]
  },
  {
   "cell_type": "code",
   "execution_count": 44,
   "metadata": {},
   "outputs": [
    {
     "data": {
      "text/plain": [
       "hotel                             0\n",
       "is_canceled                       0\n",
       "reservation_status                0\n",
       "total_of_special_requests         0\n",
       "required_car_parking_spaces       0\n",
       "adr                               0\n",
       "customer_type                     0\n",
       "days_in_waiting_list              0\n",
       "company                           0\n",
       "agent                             0\n",
       "deposit_type                      0\n",
       "booking_changes                   0\n",
       "assigned_room_type                0\n",
       "reserved_room_type                0\n",
       "previous_bookings_not_canceled    0\n",
       "previous_cancellations            0\n",
       "is_repeated_guest                 0\n",
       "distribution_channel              0\n",
       "market_segment                    0\n",
       "country                           0\n",
       "meal                              0\n",
       "babies                            0\n",
       "children                          0\n",
       "adults                            0\n",
       "stays_in_week_nights              0\n",
       "stays_in_weekend_nights           0\n",
       "arrival_date_day_of_month         0\n",
       "arrival_date_week_number          0\n",
       "arrival_date_month                0\n",
       "arrival_date_year                 0\n",
       "lead_time                         0\n",
       "reservation_status_date           0\n",
       "dtype: int64"
      ]
     },
     "execution_count": 44,
     "metadata": {},
     "output_type": "execute_result"
    }
   ],
   "source": [
    "data_copy.isnull().sum().sort_values(ascending=False)"
   ]
  },
  {
   "cell_type": "markdown",
   "metadata": {},
   "source": [
    "<b>Data Analysis</b>\n",
    "\n",
    "Lets first find the *correlation* between the numerical data.\n",
    "\n",
    "\n",
    "Since, columns like '*is_cancelled*', '*arrival_date_year*', '*arrival_date_week_number*', '*arrival_date_day_of_month*', '*is_repeated_guest*', '*company*', '*agent*' are categorical data having numerical type. So we don't need to check them for correlation.\n"
   ]
  },
  {
   "cell_type": "code",
   "execution_count": 45,
   "metadata": {},
   "outputs": [],
   "source": [
    "# extract the total country data\n",
    "total_country_data=data_copy['country'].value_counts().to_frame().reset_index()\n",
    "total_country_data.rename(columns={'index':'country','country':'guest_count'},inplace=True)\n",
    "\n",
    "# extract the total country data with comfirmed booking\n",
    "total_country_data_confirmed=data_copy[data_copy['is_canceled']==0]['country'].value_counts().to_frame().reset_index()\n",
    "total_country_data_confirmed.rename(columns={'index':'country','country':'guest_count_confirmed'},inplace=True)\n",
    "\n",
    "# extract the total country data with canceled booking\n",
    "total_country_data_canceled=data_copy[data_copy['is_canceled']==1]['country'].value_counts().to_frame().reset_index()\n",
    "total_country_data_canceled.rename(columns={'index':'country','country':'guest_count_canceled'},inplace=True)"
   ]
  },
  {
   "cell_type": "code",
   "execution_count": 46,
   "metadata": {},
   "outputs": [
    {
     "data": {
      "text/plain": [
       "guest_count\n",
       "PRT    1\n",
       "ATA    1\n",
       "TZA    1\n",
       "BHR    1\n",
       "CAF    1\n",
       "      ..\n",
       "SGP    1\n",
       "IDN    1\n",
       "NGA    1\n",
       "EGY    1\n",
       "NAM    1\n",
       "Name: count, Length: 178, dtype: int64"
      ]
     },
     "execution_count": 46,
     "metadata": {},
     "output_type": "execute_result"
    }
   ],
   "source": [
    "total_country_data['guest_count'].value_counts()"
   ]
  },
  {
   "cell_type": "code",
   "execution_count": 47,
   "metadata": {},
   "outputs": [],
   "source": [
    "from plotly.subplots import make_subplots\n",
    "import plotly.graph_objects as go"
   ]
  },
  {
   "cell_type": "code",
   "execution_count": 48,
   "metadata": {},
   "outputs": [],
   "source": [
    "# fig= make_subplots(row=1,columns=3,specs[[{\"type\":\"pie\"},{\"type\":\"pie\"},{\"type\":\"pie\"}]])\n"
   ]
  },
  {
   "cell_type": "code",
   "execution_count": 54,
   "metadata": {},
   "outputs": [
    {
     "data": {
      "application/vnd.plotly.v1+json": {
       "config": {
        "plotlyServerURL": "https://plot.ly"
       },
       "data": [
        {
         "labels": [
          [
           "PRT",
           48590
          ],
          [
           "GBR",
           12129
          ],
          [
           "FRA",
           10415
          ],
          [
           "ESP",
           8568
          ],
          [
           "DEU",
           7287
          ],
          [
           "ITA",
           3766
          ],
          [
           "IRL",
           3375
          ],
          [
           "BEL",
           2342
          ],
          [
           "BRA",
           2224
          ],
          [
           "NLD",
           2104
          ],
          [
           "USA",
           2097
          ],
          [
           "CHE",
           1730
          ],
          [
           "CN",
           1279
          ],
          [
           "AUT",
           1263
          ],
          [
           "SWE",
           1024
          ],
          [
           "CHN",
           999
          ],
          [
           "POL",
           919
          ],
          [
           "ISR",
           669
          ],
          [
           "RUS",
           632
          ],
          [
           "NOR",
           607
          ],
          [
           "ROU",
           500
          ],
          [
           "others",
           488
          ],
          [
           "FIN",
           447
          ],
          [
           "DNK",
           435
          ],
          [
           "AUS",
           426
          ],
          [
           "AGO",
           362
          ],
          [
           "LUX",
           287
          ],
          [
           "MAR",
           259
          ],
          [
           "TUR",
           248
          ],
          [
           "HUN",
           230
          ],
          [
           "ARG",
           214
          ],
          [
           "JPN",
           197
          ],
          [
           "CZE",
           171
          ],
          [
           "IND",
           152
          ],
          [
           "KOR",
           133
          ],
          [
           "GRC",
           128
          ],
          [
           "DZA",
           103
          ],
          [
           "SRB",
           101
          ],
          [
           "HRV",
           100
          ],
          [
           "MEX",
           85
          ],
          [
           "EST",
           83
          ],
          [
           "IRN",
           83
          ],
          [
           "LTU",
           81
          ],
          [
           "ZAF",
           80
          ],
          [
           "BGR",
           75
          ],
          [
           "NZL",
           74
          ],
          [
           "COL",
           71
          ],
          [
           "UKR",
           68
          ],
          [
           "MOZ",
           67
          ],
          [
           "CHL",
           65
          ],
          [
           "SVK",
           65
          ],
          [
           "THA",
           59
          ],
          [
           "SVN",
           57
          ],
          [
           "ISL",
           57
          ],
          [
           "LVA",
           55
          ],
          [
           "ARE",
           51
          ],
          [
           "CYP",
           51
          ],
          [
           "TWN",
           51
          ],
          [
           "SAU",
           48
          ],
          [
           "PHL",
           40
          ],
          [
           "TUN",
           39
          ],
          [
           "SGP",
           39
          ],
          [
           "IDN",
           35
          ],
          [
           "NGA",
           34
          ],
          [
           "EGY",
           32
          ],
          [
           "URY",
           32
          ],
          [
           "LBN",
           31
          ],
          [
           "PER",
           29
          ],
          [
           "HKG",
           29
          ],
          [
           "MYS",
           28
          ],
          [
           "ECU",
           27
          ],
          [
           "VEN",
           26
          ],
          [
           "BLR",
           26
          ],
          [
           "CPV",
           24
          ],
          [
           "GEO",
           22
          ],
          [
           "JOR",
           21
          ],
          [
           "KAZ",
           19
          ],
          [
           "CRI",
           19
          ],
          [
           "GIB",
           18
          ],
          [
           "MLT",
           18
          ],
          [
           "OMN",
           18
          ],
          [
           "AZE",
           17
          ],
          [
           "KWT",
           16
          ],
          [
           "MAC",
           16
          ],
          [
           "QAT",
           15
          ],
          [
           "IRQ",
           14
          ],
          [
           "DOM",
           14
          ],
          [
           "PAK",
           14
          ],
          [
           "BIH",
           13
          ],
          [
           "MDV",
           12
          ],
          [
           "BGD",
           12
          ],
          [
           "ALB",
           12
          ],
          [
           "PRI",
           12
          ],
          [
           "SEN",
           11
          ],
          [
           "CMR",
           10
          ],
          [
           "MKD",
           10
          ],
          [
           "BOL",
           10
          ],
          [
           "PAN",
           9
          ],
          [
           "GNB",
           9
          ],
          [
           "TJK",
           9
          ],
          [
           "VNM",
           8
          ],
          [
           "CUB",
           8
          ],
          [
           "ARM",
           8
          ],
          [
           "JEY",
           8
          ],
          [
           "LBY",
           8
          ],
          [
           "AND",
           7
          ],
          [
           "MUS",
           7
          ],
          [
           "LKA",
           7
          ],
          [
           "CIV",
           6
          ],
          [
           "JAM",
           6
          ],
          [
           "KEN",
           6
          ],
          [
           "FRO",
           5
          ],
          [
           "MNE",
           5
          ],
          [
           "TZA",
           5
          ],
          [
           "BHR",
           5
          ],
          [
           "CAF",
           5
          ],
          [
           "SUR",
           5
          ],
          [
           "PRY",
           4
          ],
          [
           "BRB",
           4
          ],
          [
           "GTM",
           4
          ],
          [
           "UZB",
           4
          ],
          [
           "MCO",
           4
          ],
          [
           "GAB",
           4
          ],
          [
           "GHA",
           4
          ],
          [
           "ZWE",
           4
          ],
          [
           "ETH",
           3
          ],
          [
           "TMP",
           3
          ],
          [
           "LIE",
           3
          ],
          [
           "GGY",
           3
          ],
          [
           "SYR",
           3
          ],
          [
           "BEN",
           3
          ],
          [
           "GLP",
           2
          ],
          [
           "SLV",
           2
          ],
          [
           "ATA",
           2
          ],
          [
           "MYT",
           2
          ],
          [
           "ABW",
           2
          ],
          [
           "KHM",
           2
          ],
          [
           "LAO",
           2
          ],
          [
           "STP",
           2
          ],
          [
           "ZMB",
           2
          ],
          [
           "MWI",
           2
          ],
          [
           "IMN",
           2
          ],
          [
           "COM",
           2
          ],
          [
           "TGO",
           2
          ],
          [
           "UGA",
           2
          ],
          [
           "KNA",
           2
          ],
          [
           "RWA",
           2
          ],
          [
           "SYC",
           2
          ],
          [
           "KIR",
           1
          ],
          [
           "SDN",
           1
          ],
          [
           "NCL",
           1
          ],
          [
           "AIA",
           1
          ],
          [
           "ASM",
           1
          ],
          [
           "FJI",
           1
          ],
          [
           "ATF",
           1
          ],
          [
           "LCA",
           1
          ],
          [
           "GUY",
           1
          ],
          [
           "PYF",
           1
          ],
          [
           "DMA",
           1
          ],
          [
           "SLE",
           1
          ],
          [
           "MRT",
           1
          ],
          [
           "NIC",
           1
          ],
          [
           "BDI",
           1
          ],
          [
           "PLW",
           1
          ],
          [
           "MLI",
           1
          ],
          [
           "CYM",
           1
          ],
          [
           "BFA",
           1
          ],
          [
           "MDG",
           1
          ],
          [
           "MMR",
           1
          ],
          [
           "NPL",
           1
          ],
          [
           "BHS",
           1
          ],
          [
           "UMI",
           1
          ],
          [
           "SMR",
           1
          ],
          [
           "DJI",
           1
          ],
          [
           "BWA",
           1
          ],
          [
           "HND",
           1
          ],
          [
           "VGB",
           1
          ],
          [
           "NAM",
           1
          ]
         ],
         "title": {
          "text": "Number of bookings by country"
         },
         "type": "pie",
         "values": [
          "PRT",
          "GBR",
          "FRA",
          "ESP",
          "DEU",
          "ITA",
          "IRL",
          "BEL",
          "BRA",
          "NLD",
          "USA",
          "CHE",
          "CN",
          "AUT",
          "SWE",
          "CHN",
          "POL",
          "ISR",
          "RUS",
          "NOR",
          "ROU",
          "others",
          "FIN",
          "DNK",
          "AUS",
          "AGO",
          "LUX",
          "MAR",
          "TUR",
          "HUN",
          "ARG",
          "JPN",
          "CZE",
          "IND",
          "KOR",
          "GRC",
          "DZA",
          "SRB",
          "HRV",
          "MEX",
          "EST",
          "IRN",
          "LTU",
          "ZAF",
          "BGR",
          "NZL",
          "COL",
          "UKR",
          "MOZ",
          "CHL",
          "SVK",
          "THA",
          "SVN",
          "ISL",
          "LVA",
          "ARE",
          "CYP",
          "TWN",
          "SAU",
          "PHL",
          "TUN",
          "SGP",
          "IDN",
          "NGA",
          "EGY",
          "URY",
          "LBN",
          "PER",
          "HKG",
          "MYS",
          "ECU",
          "VEN",
          "BLR",
          "CPV",
          "GEO",
          "JOR",
          "KAZ",
          "CRI",
          "GIB",
          "MLT",
          "OMN",
          "AZE",
          "KWT",
          "MAC",
          "QAT",
          "IRQ",
          "DOM",
          "PAK",
          "BIH",
          "MDV",
          "BGD",
          "ALB",
          "PRI",
          "SEN",
          "CMR",
          "MKD",
          "BOL",
          "PAN",
          "GNB",
          "TJK",
          "VNM",
          "CUB",
          "ARM",
          "JEY",
          "LBY",
          "AND",
          "MUS",
          "LKA",
          "CIV",
          "JAM",
          "KEN",
          "FRO",
          "MNE",
          "TZA",
          "BHR",
          "CAF",
          "SUR",
          "PRY",
          "BRB",
          "GTM",
          "UZB",
          "MCO",
          "GAB",
          "GHA",
          "ZWE",
          "ETH",
          "TMP",
          "LIE",
          "GGY",
          "SYR",
          "BEN",
          "GLP",
          "SLV",
          "ATA",
          "MYT",
          "ABW",
          "KHM",
          "LAO",
          "STP",
          "ZMB",
          "MWI",
          "IMN",
          "COM",
          "TGO",
          "UGA",
          "KNA",
          "RWA",
          "SYC",
          "KIR",
          "SDN",
          "NCL",
          "AIA",
          "ASM",
          "FJI",
          "ATF",
          "LCA",
          "GUY",
          "PYF",
          "DMA",
          "SLE",
          "MRT",
          "NIC",
          "BDI",
          "PLW",
          "MLI",
          "CYM",
          "BFA",
          "MDG",
          "MMR",
          "NPL",
          "BHS",
          "UMI",
          "SMR",
          "DJI",
          "BWA",
          "HND",
          "VGB",
          "NAM"
         ]
        },
        {
         "domain": {
          "x": [
           0.35555555555555557,
           0.6444444444444445
          ],
          "y": [
           0,
           1
          ]
         },
         "labels": [
          [
           "PRT",
           21071
          ],
          [
           "GBR",
           9676
          ],
          [
           "FRA",
           8481
          ],
          [
           "ESP",
           6391
          ],
          [
           "DEU",
           6069
          ],
          [
           "IRL",
           2543
          ],
          [
           "ITA",
           2433
          ],
          [
           "BEL",
           1868
          ],
          [
           "NLD",
           1717
          ],
          [
           "USA",
           1596
          ],
          [
           "BRA",
           1394
          ],
          [
           "CHE",
           1302
          ],
          [
           "AUT",
           1033
          ],
          [
           "CN",
           1025
          ],
          [
           "SWE",
           797
          ],
          [
           "POL",
           704
          ],
          [
           "CHN",
           537
          ],
          [
           "ISR",
           500
          ],
          [
           "NOR",
           426
          ],
          [
           "others",
           421
          ],
          [
           "RUS",
           393
          ],
          [
           "FIN",
           378
          ],
          [
           "ROU",
           366
          ],
          [
           "DNK",
           326
          ],
          [
           "AUS",
           319
          ],
          [
           "LUX",
           178
          ],
          [
           "JPN",
           169
          ],
          [
           "ARG",
           160
          ],
          [
           "AGO",
           157
          ],
          [
           "HUN",
           153
          ],
          [
           "MAR",
           150
          ],
          [
           "TUR",
           146
          ],
          [
           "CZE",
           134
          ],
          [
           "IND",
           117
          ],
          [
           "SRB",
           98
          ],
          [
           "GRC",
           93
          ],
          [
           "DZA",
           82
          ],
          [
           "KOR",
           78
          ],
          [
           "MEX",
           75
          ],
          [
           "HRV",
           75
          ],
          [
           "LTU",
           74
          ],
          [
           "NZL",
           68
          ],
          [
           "EST",
           65
          ],
          [
           "BGR",
           63
          ],
          [
           "IRN",
           60
          ],
          [
           "ISL",
           53
          ],
          [
           "ZAF",
           49
          ],
          [
           "CHL",
           49
          ],
          [
           "COL",
           48
          ],
          [
           "UKR",
           48
          ],
          [
           "MOZ",
           48
          ],
          [
           "LVA",
           46
          ],
          [
           "SVN",
           42
          ],
          [
           "SVK",
           41
          ],
          [
           "THA",
           41
          ],
          [
           "CYP",
           40
          ],
          [
           "TWN",
           37
          ],
          [
           "MYS",
           25
          ],
          [
           "URY",
           23
          ],
          [
           "PER",
           23
          ],
          [
           "SGP",
           23
          ],
          [
           "LBN",
           22
          ],
          [
           "EGY",
           21
          ],
          [
           "TUN",
           20
          ],
          [
           "ECU",
           19
          ],
          [
           "JOR",
           18
          ],
          [
           "CRI",
           18
          ],
          [
           "BLR",
           17
          ],
          [
           "PHL",
           15
          ],
          [
           "SAU",
           15
          ],
          [
           "OMN",
           14
          ],
          [
           "IRQ",
           14
          ],
          [
           "VEN",
           14
          ],
          [
           "KAZ",
           14
          ],
          [
           "NGA",
           13
          ],
          [
           "MLT",
           13
          ],
          [
           "CPV",
           12
          ],
          [
           "IDN",
           11
          ],
          [
           "CMR",
           10
          ],
          [
           "BIH",
           10
          ],
          [
           "PRI",
           10
          ],
          [
           "ALB",
           10
          ],
          [
           "KWT",
           10
          ],
          [
           "BOL",
           10
          ],
          [
           "PAN",
           9
          ],
          [
           "ARE",
           8
          ],
          [
           "GNB",
           8
          ],
          [
           "MKD",
           8
          ],
          [
           "LBY",
           8
          ],
          [
           "CUB",
           8
          ],
          [
           "AZE",
           8
          ],
          [
           "GEO",
           7
          ],
          [
           "GIB",
           7
          ],
          [
           "LKA",
           7
          ],
          [
           "VNM",
           6
          ],
          [
           "MUS",
           6
          ],
          [
           "ARM",
           6
          ],
          [
           "JAM",
           6
          ],
          [
           "DOM",
           6
          ],
          [
           "CAF",
           5
          ],
          [
           "SUR",
           5
          ],
          [
           "PAK",
           5
          ],
          [
           "GTM",
           4
          ],
          [
           "KEN",
           4
          ],
          [
           "BRB",
           4
          ],
          [
           "CIV",
           4
          ],
          [
           "PRY",
           4
          ],
          [
           "QAT",
           4
          ],
          [
           "SYR",
           3
          ],
          [
           "MCO",
           3
          ],
          [
           "SEN",
           3
          ],
          [
           "HKG",
           3
          ],
          [
           "BGD",
           3
          ],
          [
           "MNE",
           3
          ],
          [
           "MDV",
           3
          ],
          [
           "ABW",
           2
          ],
          [
           "RWA",
           2
          ],
          [
           "SLV",
           2
          ],
          [
           "TZA",
           2
          ],
          [
           "GAB",
           2
          ],
          [
           "TMP",
           2
          ],
          [
           "GHA",
           2
          ],
          [
           "ATA",
           2
          ],
          [
           "LIE",
           2
          ],
          [
           "LAO",
           2
          ],
          [
           "MWI",
           2
          ],
          [
           "ETH",
           2
          ],
          [
           "TGO",
           2
          ],
          [
           "ZWE",
           2
          ],
          [
           "COM",
           2
          ],
          [
           "AND",
           2
          ],
          [
           "UZB",
           2
          ],
          [
           "UGA",
           2
          ],
          [
           "STP",
           2
          ],
          [
           "KNA",
           2
          ],
          [
           "MAC",
           1
          ],
          [
           "MRT",
           1
          ],
          [
           "BWA",
           1
          ],
          [
           "SMR",
           1
          ],
          [
           "ZMB",
           1
          ],
          [
           "ASM",
           1
          ],
          [
           "NCL",
           1
          ],
          [
           "GUY",
           1
          ],
          [
           "KIR",
           1
          ],
          [
           "SDN",
           1
          ],
          [
           "ATF",
           1
          ],
          [
           "TJK",
           1
          ],
          [
           "SLE",
           1
          ],
          [
           "CYM",
           1
          ],
          [
           "LCA",
           1
          ],
          [
           "PYF",
           1
          ],
          [
           "BHS",
           1
          ],
          [
           "DMA",
           1
          ],
          [
           "MMR",
           1
          ],
          [
           "AIA",
           1
          ],
          [
           "BDI",
           1
          ],
          [
           "BFA",
           1
          ],
          [
           "PLW",
           1
          ],
          [
           "SYC",
           1
          ],
          [
           "MDG",
           1
          ],
          [
           "NAM",
           1
          ],
          [
           "BHR",
           1
          ],
          [
           "DJI",
           1
          ],
          [
           "MLI",
           1
          ],
          [
           "NPL",
           1
          ],
          [
           "FRO",
           1
          ]
         ],
         "title": {
          "text": "Total Confirmed Bookings Across Countries"
         },
         "type": "pie",
         "values": [
          "PRT",
          "GBR",
          "FRA",
          "ESP",
          "DEU",
          "IRL",
          "ITA",
          "BEL",
          "NLD",
          "USA",
          "BRA",
          "CHE",
          "AUT",
          "CN",
          "SWE",
          "POL",
          "CHN",
          "ISR",
          "NOR",
          "others",
          "RUS",
          "FIN",
          "ROU",
          "DNK",
          "AUS",
          "LUX",
          "JPN",
          "ARG",
          "AGO",
          "HUN",
          "MAR",
          "TUR",
          "CZE",
          "IND",
          "SRB",
          "GRC",
          "DZA",
          "KOR",
          "MEX",
          "HRV",
          "LTU",
          "NZL",
          "EST",
          "BGR",
          "IRN",
          "ISL",
          "ZAF",
          "CHL",
          "COL",
          "UKR",
          "MOZ",
          "LVA",
          "SVN",
          "SVK",
          "THA",
          "CYP",
          "TWN",
          "MYS",
          "URY",
          "PER",
          "SGP",
          "LBN",
          "EGY",
          "TUN",
          "ECU",
          "JOR",
          "CRI",
          "BLR",
          "PHL",
          "SAU",
          "OMN",
          "IRQ",
          "VEN",
          "KAZ",
          "NGA",
          "MLT",
          "CPV",
          "IDN",
          "CMR",
          "BIH",
          "PRI",
          "ALB",
          "KWT",
          "BOL",
          "PAN",
          "ARE",
          "GNB",
          "MKD",
          "LBY",
          "CUB",
          "AZE",
          "GEO",
          "GIB",
          "LKA",
          "VNM",
          "MUS",
          "ARM",
          "JAM",
          "DOM",
          "CAF",
          "SUR",
          "PAK",
          "GTM",
          "KEN",
          "BRB",
          "CIV",
          "PRY",
          "QAT",
          "SYR",
          "MCO",
          "SEN",
          "HKG",
          "BGD",
          "MNE",
          "MDV",
          "ABW",
          "RWA",
          "SLV",
          "TZA",
          "GAB",
          "TMP",
          "GHA",
          "ATA",
          "LIE",
          "LAO",
          "MWI",
          "ETH",
          "TGO",
          "ZWE",
          "COM",
          "AND",
          "UZB",
          "UGA",
          "STP",
          "KNA",
          "MAC",
          "MRT",
          "BWA",
          "SMR",
          "ZMB",
          "ASM",
          "NCL",
          "GUY",
          "KIR",
          "SDN",
          "ATF",
          "TJK",
          "SLE",
          "CYM",
          "LCA",
          "PYF",
          "BHS",
          "DMA",
          "MMR",
          "AIA",
          "BDI",
          "BFA",
          "PLW",
          "SYC",
          "MDG",
          "NAM",
          "BHR",
          "DJI",
          "MLI",
          "NPL",
          "FRO"
         ]
        },
        {
         "domain": {
          "x": [
           0.7111111111111111,
           1
          ],
          "y": [
           0,
           1
          ]
         },
         "labels": [
          [
           "PRT",
           27519
          ],
          [
           "GBR",
           2453
          ],
          [
           "ESP",
           2177
          ],
          [
           "FRA",
           1934
          ],
          [
           "ITA",
           1333
          ],
          [
           "DEU",
           1218
          ],
          [
           "IRL",
           832
          ],
          [
           "BRA",
           830
          ],
          [
           "USA",
           501
          ],
          [
           "BEL",
           474
          ],
          [
           "CHN",
           462
          ],
          [
           "CHE",
           428
          ],
          [
           "NLD",
           387
          ],
          [
           "CN",
           254
          ],
          [
           "RUS",
           239
          ],
          [
           "AUT",
           230
          ],
          [
           "SWE",
           227
          ],
          [
           "POL",
           215
          ],
          [
           "AGO",
           205
          ],
          [
           "NOR",
           181
          ],
          [
           "ISR",
           169
          ],
          [
           "ROU",
           134
          ],
          [
           "DNK",
           109
          ],
          [
           "LUX",
           109
          ],
          [
           "MAR",
           109
          ],
          [
           "AUS",
           107
          ],
          [
           "TUR",
           102
          ],
          [
           "HUN",
           77
          ],
          [
           "FIN",
           69
          ],
          [
           "others",
           67
          ],
          [
           "KOR",
           55
          ],
          [
           "ARG",
           54
          ],
          [
           "ARE",
           43
          ],
          [
           "CZE",
           37
          ],
          [
           "IND",
           35
          ],
          [
           "GRC",
           35
          ],
          [
           "SAU",
           33
          ],
          [
           "ZAF",
           31
          ],
          [
           "JPN",
           28
          ],
          [
           "HKG",
           26
          ],
          [
           "PHL",
           25
          ],
          [
           "HRV",
           25
          ],
          [
           "IDN",
           24
          ],
          [
           "SVK",
           24
          ],
          [
           "IRN",
           23
          ],
          [
           "COL",
           23
          ],
          [
           "DZA",
           21
          ],
          [
           "NGA",
           21
          ],
          [
           "UKR",
           20
          ],
          [
           "MOZ",
           19
          ],
          [
           "TUN",
           19
          ],
          [
           "EST",
           18
          ],
          [
           "THA",
           18
          ],
          [
           "SGP",
           16
          ],
          [
           "CHL",
           16
          ],
          [
           "MAC",
           15
          ],
          [
           "SVN",
           15
          ],
          [
           "GEO",
           15
          ],
          [
           "TWN",
           14
          ],
          [
           "VEN",
           12
          ],
          [
           "CPV",
           12
          ],
          [
           "BGR",
           12
          ],
          [
           "GIB",
           11
          ],
          [
           "CYP",
           11
          ],
          [
           "QAT",
           11
          ],
          [
           "EGY",
           11
          ],
          [
           "MEX",
           10
          ],
          [
           "BLR",
           9
          ],
          [
           "MDV",
           9
          ],
          [
           "BGD",
           9
          ],
          [
           "URY",
           9
          ],
          [
           "PAK",
           9
          ],
          [
           "AZE",
           9
          ],
          [
           "LVA",
           9
          ],
          [
           "LBN",
           9
          ],
          [
           "JEY",
           8
          ],
          [
           "SEN",
           8
          ],
          [
           "DOM",
           8
          ],
          [
           "TJK",
           8
          ],
          [
           "ECU",
           8
          ],
          [
           "LTU",
           7
          ],
          [
           "NZL",
           6
          ],
          [
           "PER",
           6
          ],
          [
           "KWT",
           6
          ],
          [
           "MLT",
           5
          ],
          [
           "AND",
           5
          ],
          [
           "KAZ",
           5
          ],
          [
           "FRO",
           4
          ],
          [
           "BHR",
           4
          ],
          [
           "OMN",
           4
          ],
          [
           "ISL",
           4
          ],
          [
           "TZA",
           3
          ],
          [
           "GGY",
           3
          ],
          [
           "BIH",
           3
          ],
          [
           "BEN",
           3
          ],
          [
           "JOR",
           3
          ],
          [
           "MYS",
           3
          ],
          [
           "SRB",
           3
          ],
          [
           "GLP",
           2
          ],
          [
           "GHA",
           2
          ],
          [
           "KEN",
           2
          ],
          [
           "PRI",
           2
          ],
          [
           "VNM",
           2
          ],
          [
           "MKD",
           2
          ],
          [
           "MYT",
           2
          ],
          [
           "GAB",
           2
          ],
          [
           "CIV",
           2
          ],
          [
           "MNE",
           2
          ],
          [
           "ARM",
           2
          ],
          [
           "KHM",
           2
          ],
          [
           "IMN",
           2
          ],
          [
           "UZB",
           2
          ],
          [
           "ZWE",
           2
          ],
          [
           "ALB",
           2
          ],
          [
           "NIC",
           1
          ],
          [
           "TMP",
           1
          ],
          [
           "VGB",
           1
          ],
          [
           "MCO",
           1
          ],
          [
           "MUS",
           1
          ],
          [
           "LIE",
           1
          ],
          [
           "GNB",
           1
          ],
          [
           "ETH",
           1
          ],
          [
           "ZMB",
           1
          ],
          [
           "UMI",
           1
          ],
          [
           "HND",
           1
          ],
          [
           "FJI",
           1
          ],
          [
           "SYC",
           1
          ],
          [
           "CRI",
           1
          ]
         ],
         "title": {
          "text": "Total Canceled Bookings Across Countries"
         },
         "type": "pie",
         "values": [
          "PRT",
          "GBR",
          "ESP",
          "FRA",
          "ITA",
          "DEU",
          "IRL",
          "BRA",
          "USA",
          "BEL",
          "CHN",
          "CHE",
          "NLD",
          "CN",
          "RUS",
          "AUT",
          "SWE",
          "POL",
          "AGO",
          "NOR",
          "ISR",
          "ROU",
          "DNK",
          "LUX",
          "MAR",
          "AUS",
          "TUR",
          "HUN",
          "FIN",
          "others",
          "KOR",
          "ARG",
          "ARE",
          "CZE",
          "IND",
          "GRC",
          "SAU",
          "ZAF",
          "JPN",
          "HKG",
          "PHL",
          "HRV",
          "IDN",
          "SVK",
          "IRN",
          "COL",
          "DZA",
          "NGA",
          "UKR",
          "MOZ",
          "TUN",
          "EST",
          "THA",
          "SGP",
          "CHL",
          "MAC",
          "SVN",
          "GEO",
          "TWN",
          "VEN",
          "CPV",
          "BGR",
          "GIB",
          "CYP",
          "QAT",
          "EGY",
          "MEX",
          "BLR",
          "MDV",
          "BGD",
          "URY",
          "PAK",
          "AZE",
          "LVA",
          "LBN",
          "JEY",
          "SEN",
          "DOM",
          "TJK",
          "ECU",
          "LTU",
          "NZL",
          "PER",
          "KWT",
          "MLT",
          "AND",
          "KAZ",
          "FRO",
          "BHR",
          "OMN",
          "ISL",
          "TZA",
          "GGY",
          "BIH",
          "BEN",
          "JOR",
          "MYS",
          "SRB",
          "GLP",
          "GHA",
          "KEN",
          "PRI",
          "VNM",
          "MKD",
          "MYT",
          "GAB",
          "CIV",
          "MNE",
          "ARM",
          "KHM",
          "IMN",
          "UZB",
          "ZWE",
          "ALB",
          "NIC",
          "TMP",
          "VGB",
          "MCO",
          "MUS",
          "LIE",
          "GNB",
          "ETH",
          "ZMB",
          "UMI",
          "HND",
          "FJI",
          "SYC",
          "CRI"
         ]
        }
       ],
       "layout": {
        "template": {
         "data": {
          "bar": [
           {
            "error_x": {
             "color": "#2a3f5f"
            },
            "error_y": {
             "color": "#2a3f5f"
            },
            "marker": {
             "line": {
              "color": "#E5ECF6",
              "width": 0.5
             },
             "pattern": {
              "fillmode": "overlay",
              "size": 10,
              "solidity": 0.2
             }
            },
            "type": "bar"
           }
          ],
          "barpolar": [
           {
            "marker": {
             "line": {
              "color": "#E5ECF6",
              "width": 0.5
             },
             "pattern": {
              "fillmode": "overlay",
              "size": 10,
              "solidity": 0.2
             }
            },
            "type": "barpolar"
           }
          ],
          "carpet": [
           {
            "aaxis": {
             "endlinecolor": "#2a3f5f",
             "gridcolor": "white",
             "linecolor": "white",
             "minorgridcolor": "white",
             "startlinecolor": "#2a3f5f"
            },
            "baxis": {
             "endlinecolor": "#2a3f5f",
             "gridcolor": "white",
             "linecolor": "white",
             "minorgridcolor": "white",
             "startlinecolor": "#2a3f5f"
            },
            "type": "carpet"
           }
          ],
          "choropleth": [
           {
            "colorbar": {
             "outlinewidth": 0,
             "ticks": ""
            },
            "type": "choropleth"
           }
          ],
          "contour": [
           {
            "colorbar": {
             "outlinewidth": 0,
             "ticks": ""
            },
            "colorscale": [
             [
              0,
              "#0d0887"
             ],
             [
              0.1111111111111111,
              "#46039f"
             ],
             [
              0.2222222222222222,
              "#7201a8"
             ],
             [
              0.3333333333333333,
              "#9c179e"
             ],
             [
              0.4444444444444444,
              "#bd3786"
             ],
             [
              0.5555555555555556,
              "#d8576b"
             ],
             [
              0.6666666666666666,
              "#ed7953"
             ],
             [
              0.7777777777777778,
              "#fb9f3a"
             ],
             [
              0.8888888888888888,
              "#fdca26"
             ],
             [
              1,
              "#f0f921"
             ]
            ],
            "type": "contour"
           }
          ],
          "contourcarpet": [
           {
            "colorbar": {
             "outlinewidth": 0,
             "ticks": ""
            },
            "type": "contourcarpet"
           }
          ],
          "heatmap": [
           {
            "colorbar": {
             "outlinewidth": 0,
             "ticks": ""
            },
            "colorscale": [
             [
              0,
              "#0d0887"
             ],
             [
              0.1111111111111111,
              "#46039f"
             ],
             [
              0.2222222222222222,
              "#7201a8"
             ],
             [
              0.3333333333333333,
              "#9c179e"
             ],
             [
              0.4444444444444444,
              "#bd3786"
             ],
             [
              0.5555555555555556,
              "#d8576b"
             ],
             [
              0.6666666666666666,
              "#ed7953"
             ],
             [
              0.7777777777777778,
              "#fb9f3a"
             ],
             [
              0.8888888888888888,
              "#fdca26"
             ],
             [
              1,
              "#f0f921"
             ]
            ],
            "type": "heatmap"
           }
          ],
          "heatmapgl": [
           {
            "colorbar": {
             "outlinewidth": 0,
             "ticks": ""
            },
            "colorscale": [
             [
              0,
              "#0d0887"
             ],
             [
              0.1111111111111111,
              "#46039f"
             ],
             [
              0.2222222222222222,
              "#7201a8"
             ],
             [
              0.3333333333333333,
              "#9c179e"
             ],
             [
              0.4444444444444444,
              "#bd3786"
             ],
             [
              0.5555555555555556,
              "#d8576b"
             ],
             [
              0.6666666666666666,
              "#ed7953"
             ],
             [
              0.7777777777777778,
              "#fb9f3a"
             ],
             [
              0.8888888888888888,
              "#fdca26"
             ],
             [
              1,
              "#f0f921"
             ]
            ],
            "type": "heatmapgl"
           }
          ],
          "histogram": [
           {
            "marker": {
             "pattern": {
              "fillmode": "overlay",
              "size": 10,
              "solidity": 0.2
             }
            },
            "type": "histogram"
           }
          ],
          "histogram2d": [
           {
            "colorbar": {
             "outlinewidth": 0,
             "ticks": ""
            },
            "colorscale": [
             [
              0,
              "#0d0887"
             ],
             [
              0.1111111111111111,
              "#46039f"
             ],
             [
              0.2222222222222222,
              "#7201a8"
             ],
             [
              0.3333333333333333,
              "#9c179e"
             ],
             [
              0.4444444444444444,
              "#bd3786"
             ],
             [
              0.5555555555555556,
              "#d8576b"
             ],
             [
              0.6666666666666666,
              "#ed7953"
             ],
             [
              0.7777777777777778,
              "#fb9f3a"
             ],
             [
              0.8888888888888888,
              "#fdca26"
             ],
             [
              1,
              "#f0f921"
             ]
            ],
            "type": "histogram2d"
           }
          ],
          "histogram2dcontour": [
           {
            "colorbar": {
             "outlinewidth": 0,
             "ticks": ""
            },
            "colorscale": [
             [
              0,
              "#0d0887"
             ],
             [
              0.1111111111111111,
              "#46039f"
             ],
             [
              0.2222222222222222,
              "#7201a8"
             ],
             [
              0.3333333333333333,
              "#9c179e"
             ],
             [
              0.4444444444444444,
              "#bd3786"
             ],
             [
              0.5555555555555556,
              "#d8576b"
             ],
             [
              0.6666666666666666,
              "#ed7953"
             ],
             [
              0.7777777777777778,
              "#fb9f3a"
             ],
             [
              0.8888888888888888,
              "#fdca26"
             ],
             [
              1,
              "#f0f921"
             ]
            ],
            "type": "histogram2dcontour"
           }
          ],
          "mesh3d": [
           {
            "colorbar": {
             "outlinewidth": 0,
             "ticks": ""
            },
            "type": "mesh3d"
           }
          ],
          "parcoords": [
           {
            "line": {
             "colorbar": {
              "outlinewidth": 0,
              "ticks": ""
             }
            },
            "type": "parcoords"
           }
          ],
          "pie": [
           {
            "automargin": true,
            "type": "pie"
           }
          ],
          "scatter": [
           {
            "fillpattern": {
             "fillmode": "overlay",
             "size": 10,
             "solidity": 0.2
            },
            "type": "scatter"
           }
          ],
          "scatter3d": [
           {
            "line": {
             "colorbar": {
              "outlinewidth": 0,
              "ticks": ""
             }
            },
            "marker": {
             "colorbar": {
              "outlinewidth": 0,
              "ticks": ""
             }
            },
            "type": "scatter3d"
           }
          ],
          "scattercarpet": [
           {
            "marker": {
             "colorbar": {
              "outlinewidth": 0,
              "ticks": ""
             }
            },
            "type": "scattercarpet"
           }
          ],
          "scattergeo": [
           {
            "marker": {
             "colorbar": {
              "outlinewidth": 0,
              "ticks": ""
             }
            },
            "type": "scattergeo"
           }
          ],
          "scattergl": [
           {
            "marker": {
             "colorbar": {
              "outlinewidth": 0,
              "ticks": ""
             }
            },
            "type": "scattergl"
           }
          ],
          "scattermapbox": [
           {
            "marker": {
             "colorbar": {
              "outlinewidth": 0,
              "ticks": ""
             }
            },
            "type": "scattermapbox"
           }
          ],
          "scatterpolar": [
           {
            "marker": {
             "colorbar": {
              "outlinewidth": 0,
              "ticks": ""
             }
            },
            "type": "scatterpolar"
           }
          ],
          "scatterpolargl": [
           {
            "marker": {
             "colorbar": {
              "outlinewidth": 0,
              "ticks": ""
             }
            },
            "type": "scatterpolargl"
           }
          ],
          "scatterternary": [
           {
            "marker": {
             "colorbar": {
              "outlinewidth": 0,
              "ticks": ""
             }
            },
            "type": "scatterternary"
           }
          ],
          "surface": [
           {
            "colorbar": {
             "outlinewidth": 0,
             "ticks": ""
            },
            "colorscale": [
             [
              0,
              "#0d0887"
             ],
             [
              0.1111111111111111,
              "#46039f"
             ],
             [
              0.2222222222222222,
              "#7201a8"
             ],
             [
              0.3333333333333333,
              "#9c179e"
             ],
             [
              0.4444444444444444,
              "#bd3786"
             ],
             [
              0.5555555555555556,
              "#d8576b"
             ],
             [
              0.6666666666666666,
              "#ed7953"
             ],
             [
              0.7777777777777778,
              "#fb9f3a"
             ],
             [
              0.8888888888888888,
              "#fdca26"
             ],
             [
              1,
              "#f0f921"
             ]
            ],
            "type": "surface"
           }
          ],
          "table": [
           {
            "cells": {
             "fill": {
              "color": "#EBF0F8"
             },
             "line": {
              "color": "white"
             }
            },
            "header": {
             "fill": {
              "color": "#C8D4E3"
             },
             "line": {
              "color": "white"
             }
            },
            "type": "table"
           }
          ]
         },
         "layout": {
          "annotationdefaults": {
           "arrowcolor": "#2a3f5f",
           "arrowhead": 0,
           "arrowwidth": 1
          },
          "autotypenumbers": "strict",
          "coloraxis": {
           "colorbar": {
            "outlinewidth": 0,
            "ticks": ""
           }
          },
          "colorscale": {
           "diverging": [
            [
             0,
             "#8e0152"
            ],
            [
             0.1,
             "#c51b7d"
            ],
            [
             0.2,
             "#de77ae"
            ],
            [
             0.3,
             "#f1b6da"
            ],
            [
             0.4,
             "#fde0ef"
            ],
            [
             0.5,
             "#f7f7f7"
            ],
            [
             0.6,
             "#e6f5d0"
            ],
            [
             0.7,
             "#b8e186"
            ],
            [
             0.8,
             "#7fbc41"
            ],
            [
             0.9,
             "#4d9221"
            ],
            [
             1,
             "#276419"
            ]
           ],
           "sequential": [
            [
             0,
             "#0d0887"
            ],
            [
             0.1111111111111111,
             "#46039f"
            ],
            [
             0.2222222222222222,
             "#7201a8"
            ],
            [
             0.3333333333333333,
             "#9c179e"
            ],
            [
             0.4444444444444444,
             "#bd3786"
            ],
            [
             0.5555555555555556,
             "#d8576b"
            ],
            [
             0.6666666666666666,
             "#ed7953"
            ],
            [
             0.7777777777777778,
             "#fb9f3a"
            ],
            [
             0.8888888888888888,
             "#fdca26"
            ],
            [
             1,
             "#f0f921"
            ]
           ],
           "sequentialminus": [
            [
             0,
             "#0d0887"
            ],
            [
             0.1111111111111111,
             "#46039f"
            ],
            [
             0.2222222222222222,
             "#7201a8"
            ],
            [
             0.3333333333333333,
             "#9c179e"
            ],
            [
             0.4444444444444444,
             "#bd3786"
            ],
            [
             0.5555555555555556,
             "#d8576b"
            ],
            [
             0.6666666666666666,
             "#ed7953"
            ],
            [
             0.7777777777777778,
             "#fb9f3a"
            ],
            [
             0.8888888888888888,
             "#fdca26"
            ],
            [
             1,
             "#f0f921"
            ]
           ]
          },
          "colorway": [
           "#636efa",
           "#EF553B",
           "#00cc96",
           "#ab63fa",
           "#FFA15A",
           "#19d3f3",
           "#FF6692",
           "#B6E880",
           "#FF97FF",
           "#FECB52"
          ],
          "font": {
           "color": "#2a3f5f"
          },
          "geo": {
           "bgcolor": "white",
           "lakecolor": "white",
           "landcolor": "#E5ECF6",
           "showlakes": true,
           "showland": true,
           "subunitcolor": "white"
          },
          "hoverlabel": {
           "align": "left"
          },
          "hovermode": "closest",
          "mapbox": {
           "style": "light"
          },
          "paper_bgcolor": "white",
          "plot_bgcolor": "#E5ECF6",
          "polar": {
           "angularaxis": {
            "gridcolor": "white",
            "linecolor": "white",
            "ticks": ""
           },
           "bgcolor": "#E5ECF6",
           "radialaxis": {
            "gridcolor": "white",
            "linecolor": "white",
            "ticks": ""
           }
          },
          "scene": {
           "xaxis": {
            "backgroundcolor": "#E5ECF6",
            "gridcolor": "white",
            "gridwidth": 2,
            "linecolor": "white",
            "showbackground": true,
            "ticks": "",
            "zerolinecolor": "white"
           },
           "yaxis": {
            "backgroundcolor": "#E5ECF6",
            "gridcolor": "white",
            "gridwidth": 2,
            "linecolor": "white",
            "showbackground": true,
            "ticks": "",
            "zerolinecolor": "white"
           },
           "zaxis": {
            "backgroundcolor": "#E5ECF6",
            "gridcolor": "white",
            "gridwidth": 2,
            "linecolor": "white",
            "showbackground": true,
            "ticks": "",
            "zerolinecolor": "white"
           }
          },
          "shapedefaults": {
           "line": {
            "color": "#2a3f5f"
           }
          },
          "ternary": {
           "aaxis": {
            "gridcolor": "white",
            "linecolor": "white",
            "ticks": ""
           },
           "baxis": {
            "gridcolor": "white",
            "linecolor": "white",
            "ticks": ""
           },
           "bgcolor": "#E5ECF6",
           "caxis": {
            "gridcolor": "white",
            "linecolor": "white",
            "ticks": ""
           }
          },
          "title": {
           "x": 0.05
          },
          "xaxis": {
           "automargin": true,
           "gridcolor": "white",
           "linecolor": "white",
           "ticks": "",
           "title": {
            "standoff": 15
           },
           "zerolinecolor": "white",
           "zerolinewidth": 2
          },
          "yaxis": {
           "automargin": true,
           "gridcolor": "white",
           "linecolor": "white",
           "ticks": "",
           "title": {
            "standoff": 15
           },
           "zerolinecolor": "white",
           "zerolinewidth": 2
          }
         }
        }
       }
      }
     },
     "metadata": {},
     "output_type": "display_data"
    }
   ],
   "source": [
    "\n",
    "fig = make_subplots(rows=1, cols=3, specs=[[{'type': 'pie'}, {'type': 'pie'}, {'type': 'pie'}]])\n",
    "\n",
    "# 1 Visualising the number of bookings by country\n",
    "fig.add_trace(go.Pie(labels = total_country_data.values.tolist(), \n",
    "                      values=total_country_data['guest_count'].values.tolist(), \n",
    "                      title='Number of bookings by country'))\n",
    "\n",
    "\n",
    "# 2. Visualising the number of confirmed(non-cancelled) bookings by country\n",
    "fig.add_trace(go.Pie(labels = total_country_data_confirmed.values.tolist(), \n",
    "                     values=total_country_data_confirmed['guest_count_confirmed'].values.tolist(), \n",
    "                     title = 'Total Confirmed Bookings Across Countries'), 1, 2)\n",
    "\n",
    "# 3. Visualising the number of cancelled bookings by country\n",
    "fig.add_trace(go.Pie(labels = total_country_data_canceled.values.tolist(), \n",
    "                    values=total_country_data_canceled['guest_count_canceled'].values.tolist(), \n",
    "                    title = 'Total Canceled Bookings Across Countries'), 1, 3)\n",
    "# # Update the traces\n",
    "# fig.update_traces(textposition=\"inside\", textinfo=\"label+percent+value\",textfont_size=12,\n",
    "                #   marker=dict(line=dict(color='black', width=0.5)))"
   ]
  },
  {
   "cell_type": "code",
   "execution_count": 27,
   "metadata": {},
   "outputs": [
    {
     "data": {
      "application/vnd.plotly.v1+json": {
       "config": {
        "plotlyServerURL": "https://plot.ly"
       },
       "data": [
        {
         "domain": {
          "x": [
           0,
           0.2888888888888889
          ],
          "y": [
           0,
           1
          ]
         },
         "labels": [
          [
           "PRT",
           48590
          ],
          [
           "GBR",
           12129
          ],
          [
           "FRA",
           10415
          ],
          [
           "ESP",
           8568
          ],
          [
           "DEU",
           7287
          ],
          [
           "ITA",
           3766
          ],
          [
           "IRL",
           3375
          ],
          [
           "BEL",
           2342
          ],
          [
           "BRA",
           2224
          ],
          [
           "NLD",
           2104
          ],
          [
           "USA",
           2097
          ],
          [
           "CHE",
           1730
          ],
          [
           "CN",
           1279
          ],
          [
           "AUT",
           1263
          ],
          [
           "SWE",
           1024
          ],
          [
           "CHN",
           999
          ],
          [
           "POL",
           919
          ],
          [
           "ISR",
           669
          ],
          [
           "RUS",
           632
          ],
          [
           "NOR",
           607
          ],
          [
           "ROU",
           500
          ],
          [
           "others",
           488
          ],
          [
           "FIN",
           447
          ],
          [
           "DNK",
           435
          ],
          [
           "AUS",
           426
          ],
          [
           "AGO",
           362
          ],
          [
           "LUX",
           287
          ],
          [
           "MAR",
           259
          ],
          [
           "TUR",
           248
          ],
          [
           "HUN",
           230
          ],
          [
           "ARG",
           214
          ],
          [
           "JPN",
           197
          ],
          [
           "CZE",
           171
          ],
          [
           "IND",
           152
          ],
          [
           "KOR",
           133
          ],
          [
           "GRC",
           128
          ],
          [
           "DZA",
           103
          ],
          [
           "SRB",
           101
          ],
          [
           "HRV",
           100
          ],
          [
           "MEX",
           85
          ],
          [
           "EST",
           83
          ],
          [
           "IRN",
           83
          ],
          [
           "LTU",
           81
          ],
          [
           "ZAF",
           80
          ],
          [
           "BGR",
           75
          ],
          [
           "NZL",
           74
          ],
          [
           "COL",
           71
          ],
          [
           "UKR",
           68
          ],
          [
           "MOZ",
           67
          ],
          [
           "CHL",
           65
          ],
          [
           "SVK",
           65
          ],
          [
           "THA",
           59
          ],
          [
           "SVN",
           57
          ],
          [
           "ISL",
           57
          ],
          [
           "LVA",
           55
          ],
          [
           "ARE",
           51
          ],
          [
           "CYP",
           51
          ],
          [
           "TWN",
           51
          ],
          [
           "SAU",
           48
          ],
          [
           "PHL",
           40
          ],
          [
           "TUN",
           39
          ],
          [
           "SGP",
           39
          ],
          [
           "IDN",
           35
          ],
          [
           "NGA",
           34
          ],
          [
           "EGY",
           32
          ],
          [
           "URY",
           32
          ],
          [
           "LBN",
           31
          ],
          [
           "PER",
           29
          ],
          [
           "HKG",
           29
          ],
          [
           "MYS",
           28
          ],
          [
           "ECU",
           27
          ],
          [
           "VEN",
           26
          ],
          [
           "BLR",
           26
          ],
          [
           "CPV",
           24
          ],
          [
           "GEO",
           22
          ],
          [
           "JOR",
           21
          ],
          [
           "KAZ",
           19
          ],
          [
           "CRI",
           19
          ],
          [
           "GIB",
           18
          ],
          [
           "MLT",
           18
          ],
          [
           "OMN",
           18
          ],
          [
           "AZE",
           17
          ],
          [
           "KWT",
           16
          ],
          [
           "MAC",
           16
          ],
          [
           "QAT",
           15
          ],
          [
           "IRQ",
           14
          ],
          [
           "DOM",
           14
          ],
          [
           "PAK",
           14
          ],
          [
           "BIH",
           13
          ],
          [
           "MDV",
           12
          ],
          [
           "BGD",
           12
          ],
          [
           "ALB",
           12
          ],
          [
           "PRI",
           12
          ],
          [
           "SEN",
           11
          ],
          [
           "CMR",
           10
          ],
          [
           "MKD",
           10
          ],
          [
           "BOL",
           10
          ],
          [
           "PAN",
           9
          ],
          [
           "GNB",
           9
          ],
          [
           "TJK",
           9
          ],
          [
           "VNM",
           8
          ],
          [
           "CUB",
           8
          ],
          [
           "ARM",
           8
          ],
          [
           "JEY",
           8
          ],
          [
           "LBY",
           8
          ],
          [
           "AND",
           7
          ],
          [
           "MUS",
           7
          ],
          [
           "LKA",
           7
          ],
          [
           "CIV",
           6
          ],
          [
           "JAM",
           6
          ],
          [
           "KEN",
           6
          ],
          [
           "FRO",
           5
          ],
          [
           "MNE",
           5
          ],
          [
           "TZA",
           5
          ],
          [
           "BHR",
           5
          ],
          [
           "CAF",
           5
          ],
          [
           "SUR",
           5
          ],
          [
           "PRY",
           4
          ],
          [
           "BRB",
           4
          ],
          [
           "GTM",
           4
          ],
          [
           "UZB",
           4
          ],
          [
           "MCO",
           4
          ],
          [
           "GAB",
           4
          ],
          [
           "GHA",
           4
          ],
          [
           "ZWE",
           4
          ],
          [
           "ETH",
           3
          ],
          [
           "TMP",
           3
          ],
          [
           "LIE",
           3
          ],
          [
           "GGY",
           3
          ],
          [
           "SYR",
           3
          ],
          [
           "BEN",
           3
          ],
          [
           "GLP",
           2
          ],
          [
           "SLV",
           2
          ],
          [
           "ATA",
           2
          ],
          [
           "MYT",
           2
          ],
          [
           "ABW",
           2
          ],
          [
           "KHM",
           2
          ],
          [
           "LAO",
           2
          ],
          [
           "STP",
           2
          ],
          [
           "ZMB",
           2
          ],
          [
           "MWI",
           2
          ],
          [
           "IMN",
           2
          ],
          [
           "COM",
           2
          ],
          [
           "TGO",
           2
          ],
          [
           "UGA",
           2
          ],
          [
           "KNA",
           2
          ],
          [
           "RWA",
           2
          ],
          [
           "SYC",
           2
          ],
          [
           "KIR",
           1
          ],
          [
           "SDN",
           1
          ],
          [
           "NCL",
           1
          ],
          [
           "AIA",
           1
          ],
          [
           "ASM",
           1
          ],
          [
           "FJI",
           1
          ],
          [
           "ATF",
           1
          ],
          [
           "LCA",
           1
          ],
          [
           "GUY",
           1
          ],
          [
           "PYF",
           1
          ],
          [
           "DMA",
           1
          ],
          [
           "SLE",
           1
          ],
          [
           "MRT",
           1
          ],
          [
           "NIC",
           1
          ],
          [
           "BDI",
           1
          ],
          [
           "PLW",
           1
          ],
          [
           "MLI",
           1
          ],
          [
           "CYM",
           1
          ],
          [
           "BFA",
           1
          ],
          [
           "MDG",
           1
          ],
          [
           "MMR",
           1
          ],
          [
           "NPL",
           1
          ],
          [
           "BHS",
           1
          ],
          [
           "UMI",
           1
          ],
          [
           "SMR",
           1
          ],
          [
           "DJI",
           1
          ],
          [
           "BWA",
           1
          ],
          [
           "HND",
           1
          ],
          [
           "VGB",
           1
          ],
          [
           "NAM",
           1
          ]
         ],
         "marker": {
          "line": {
           "color": "black",
           "width": 0.5
          }
         },
         "textfont": {
          "size": 12
         },
         "textinfo": "label+percent+value",
         "textposition": "inside",
         "title": {
          "text": "Number of bookings by country"
         },
         "type": "pie",
         "values": [
          "PRT",
          "GBR",
          "FRA",
          "ESP",
          "DEU",
          "ITA",
          "IRL",
          "BEL",
          "BRA",
          "NLD",
          "USA",
          "CHE",
          "CN",
          "AUT",
          "SWE",
          "CHN",
          "POL",
          "ISR",
          "RUS",
          "NOR",
          "ROU",
          "others",
          "FIN",
          "DNK",
          "AUS",
          "AGO",
          "LUX",
          "MAR",
          "TUR",
          "HUN",
          "ARG",
          "JPN",
          "CZE",
          "IND",
          "KOR",
          "GRC",
          "DZA",
          "SRB",
          "HRV",
          "MEX",
          "EST",
          "IRN",
          "LTU",
          "ZAF",
          "BGR",
          "NZL",
          "COL",
          "UKR",
          "MOZ",
          "CHL",
          "SVK",
          "THA",
          "SVN",
          "ISL",
          "LVA",
          "ARE",
          "CYP",
          "TWN",
          "SAU",
          "PHL",
          "TUN",
          "SGP",
          "IDN",
          "NGA",
          "EGY",
          "URY",
          "LBN",
          "PER",
          "HKG",
          "MYS",
          "ECU",
          "VEN",
          "BLR",
          "CPV",
          "GEO",
          "JOR",
          "KAZ",
          "CRI",
          "GIB",
          "MLT",
          "OMN",
          "AZE",
          "KWT",
          "MAC",
          "QAT",
          "IRQ",
          "DOM",
          "PAK",
          "BIH",
          "MDV",
          "BGD",
          "ALB",
          "PRI",
          "SEN",
          "CMR",
          "MKD",
          "BOL",
          "PAN",
          "GNB",
          "TJK",
          "VNM",
          "CUB",
          "ARM",
          "JEY",
          "LBY",
          "AND",
          "MUS",
          "LKA",
          "CIV",
          "JAM",
          "KEN",
          "FRO",
          "MNE",
          "TZA",
          "BHR",
          "CAF",
          "SUR",
          "PRY",
          "BRB",
          "GTM",
          "UZB",
          "MCO",
          "GAB",
          "GHA",
          "ZWE",
          "ETH",
          "TMP",
          "LIE",
          "GGY",
          "SYR",
          "BEN",
          "GLP",
          "SLV",
          "ATA",
          "MYT",
          "ABW",
          "KHM",
          "LAO",
          "STP",
          "ZMB",
          "MWI",
          "IMN",
          "COM",
          "TGO",
          "UGA",
          "KNA",
          "RWA",
          "SYC",
          "KIR",
          "SDN",
          "NCL",
          "AIA",
          "ASM",
          "FJI",
          "ATF",
          "LCA",
          "GUY",
          "PYF",
          "DMA",
          "SLE",
          "MRT",
          "NIC",
          "BDI",
          "PLW",
          "MLI",
          "CYM",
          "BFA",
          "MDG",
          "MMR",
          "NPL",
          "BHS",
          "UMI",
          "SMR",
          "DJI",
          "BWA",
          "HND",
          "VGB",
          "NAM"
         ]
        },
        {
         "domain": {
          "x": [
           0.35555555555555557,
           0.6444444444444445
          ],
          "y": [
           0,
           1
          ]
         },
         "labels": [
          [
           "PRT",
           21071
          ],
          [
           "GBR",
           9676
          ],
          [
           "FRA",
           8481
          ],
          [
           "ESP",
           6391
          ],
          [
           "DEU",
           6069
          ],
          [
           "IRL",
           2543
          ],
          [
           "ITA",
           2433
          ],
          [
           "BEL",
           1868
          ],
          [
           "NLD",
           1717
          ],
          [
           "USA",
           1596
          ],
          [
           "BRA",
           1394
          ],
          [
           "CHE",
           1302
          ],
          [
           "AUT",
           1033
          ],
          [
           "CN",
           1025
          ],
          [
           "SWE",
           797
          ],
          [
           "POL",
           704
          ],
          [
           "CHN",
           537
          ],
          [
           "ISR",
           500
          ],
          [
           "NOR",
           426
          ],
          [
           "others",
           421
          ],
          [
           "RUS",
           393
          ],
          [
           "FIN",
           378
          ],
          [
           "ROU",
           366
          ],
          [
           "DNK",
           326
          ],
          [
           "AUS",
           319
          ],
          [
           "LUX",
           178
          ],
          [
           "JPN",
           169
          ],
          [
           "ARG",
           160
          ],
          [
           "AGO",
           157
          ],
          [
           "HUN",
           153
          ],
          [
           "MAR",
           150
          ],
          [
           "TUR",
           146
          ],
          [
           "CZE",
           134
          ],
          [
           "IND",
           117
          ],
          [
           "SRB",
           98
          ],
          [
           "GRC",
           93
          ],
          [
           "DZA",
           82
          ],
          [
           "KOR",
           78
          ],
          [
           "MEX",
           75
          ],
          [
           "HRV",
           75
          ],
          [
           "LTU",
           74
          ],
          [
           "NZL",
           68
          ],
          [
           "EST",
           65
          ],
          [
           "BGR",
           63
          ],
          [
           "IRN",
           60
          ],
          [
           "ISL",
           53
          ],
          [
           "ZAF",
           49
          ],
          [
           "CHL",
           49
          ],
          [
           "COL",
           48
          ],
          [
           "UKR",
           48
          ],
          [
           "MOZ",
           48
          ],
          [
           "LVA",
           46
          ],
          [
           "SVN",
           42
          ],
          [
           "SVK",
           41
          ],
          [
           "THA",
           41
          ],
          [
           "CYP",
           40
          ],
          [
           "TWN",
           37
          ],
          [
           "MYS",
           25
          ],
          [
           "URY",
           23
          ],
          [
           "PER",
           23
          ],
          [
           "SGP",
           23
          ],
          [
           "LBN",
           22
          ],
          [
           "EGY",
           21
          ],
          [
           "TUN",
           20
          ],
          [
           "ECU",
           19
          ],
          [
           "JOR",
           18
          ],
          [
           "CRI",
           18
          ],
          [
           "BLR",
           17
          ],
          [
           "PHL",
           15
          ],
          [
           "SAU",
           15
          ],
          [
           "OMN",
           14
          ],
          [
           "IRQ",
           14
          ],
          [
           "VEN",
           14
          ],
          [
           "KAZ",
           14
          ],
          [
           "NGA",
           13
          ],
          [
           "MLT",
           13
          ],
          [
           "CPV",
           12
          ],
          [
           "IDN",
           11
          ],
          [
           "CMR",
           10
          ],
          [
           "BIH",
           10
          ],
          [
           "PRI",
           10
          ],
          [
           "ALB",
           10
          ],
          [
           "KWT",
           10
          ],
          [
           "BOL",
           10
          ],
          [
           "PAN",
           9
          ],
          [
           "ARE",
           8
          ],
          [
           "GNB",
           8
          ],
          [
           "MKD",
           8
          ],
          [
           "LBY",
           8
          ],
          [
           "CUB",
           8
          ],
          [
           "AZE",
           8
          ],
          [
           "GEO",
           7
          ],
          [
           "GIB",
           7
          ],
          [
           "LKA",
           7
          ],
          [
           "VNM",
           6
          ],
          [
           "MUS",
           6
          ],
          [
           "ARM",
           6
          ],
          [
           "JAM",
           6
          ],
          [
           "DOM",
           6
          ],
          [
           "CAF",
           5
          ],
          [
           "SUR",
           5
          ],
          [
           "PAK",
           5
          ],
          [
           "GTM",
           4
          ],
          [
           "KEN",
           4
          ],
          [
           "BRB",
           4
          ],
          [
           "CIV",
           4
          ],
          [
           "PRY",
           4
          ],
          [
           "QAT",
           4
          ],
          [
           "SYR",
           3
          ],
          [
           "MCO",
           3
          ],
          [
           "SEN",
           3
          ],
          [
           "HKG",
           3
          ],
          [
           "BGD",
           3
          ],
          [
           "MNE",
           3
          ],
          [
           "MDV",
           3
          ],
          [
           "ABW",
           2
          ],
          [
           "RWA",
           2
          ],
          [
           "SLV",
           2
          ],
          [
           "TZA",
           2
          ],
          [
           "GAB",
           2
          ],
          [
           "TMP",
           2
          ],
          [
           "GHA",
           2
          ],
          [
           "ATA",
           2
          ],
          [
           "LIE",
           2
          ],
          [
           "LAO",
           2
          ],
          [
           "MWI",
           2
          ],
          [
           "ETH",
           2
          ],
          [
           "TGO",
           2
          ],
          [
           "ZWE",
           2
          ],
          [
           "COM",
           2
          ],
          [
           "AND",
           2
          ],
          [
           "UZB",
           2
          ],
          [
           "UGA",
           2
          ],
          [
           "STP",
           2
          ],
          [
           "KNA",
           2
          ],
          [
           "MAC",
           1
          ],
          [
           "MRT",
           1
          ],
          [
           "BWA",
           1
          ],
          [
           "SMR",
           1
          ],
          [
           "ZMB",
           1
          ],
          [
           "ASM",
           1
          ],
          [
           "NCL",
           1
          ],
          [
           "GUY",
           1
          ],
          [
           "KIR",
           1
          ],
          [
           "SDN",
           1
          ],
          [
           "ATF",
           1
          ],
          [
           "TJK",
           1
          ],
          [
           "SLE",
           1
          ],
          [
           "CYM",
           1
          ],
          [
           "LCA",
           1
          ],
          [
           "PYF",
           1
          ],
          [
           "BHS",
           1
          ],
          [
           "DMA",
           1
          ],
          [
           "MMR",
           1
          ],
          [
           "AIA",
           1
          ],
          [
           "BDI",
           1
          ],
          [
           "BFA",
           1
          ],
          [
           "PLW",
           1
          ],
          [
           "SYC",
           1
          ],
          [
           "MDG",
           1
          ],
          [
           "NAM",
           1
          ],
          [
           "BHR",
           1
          ],
          [
           "DJI",
           1
          ],
          [
           "MLI",
           1
          ],
          [
           "NPL",
           1
          ],
          [
           "FRO",
           1
          ]
         ],
         "marker": {
          "line": {
           "color": "black",
           "width": 0.5
          }
         },
         "textfont": {
          "size": 12
         },
         "textinfo": "label+percent+value",
         "textposition": "inside",
         "title": {
          "text": "Total Confirmed Bookings Across Countries"
         },
         "type": "pie",
         "values": [
          "PRT",
          "GBR",
          "FRA",
          "ESP",
          "DEU",
          "IRL",
          "ITA",
          "BEL",
          "NLD",
          "USA",
          "BRA",
          "CHE",
          "AUT",
          "CN",
          "SWE",
          "POL",
          "CHN",
          "ISR",
          "NOR",
          "others",
          "RUS",
          "FIN",
          "ROU",
          "DNK",
          "AUS",
          "LUX",
          "JPN",
          "ARG",
          "AGO",
          "HUN",
          "MAR",
          "TUR",
          "CZE",
          "IND",
          "SRB",
          "GRC",
          "DZA",
          "KOR",
          "MEX",
          "HRV",
          "LTU",
          "NZL",
          "EST",
          "BGR",
          "IRN",
          "ISL",
          "ZAF",
          "CHL",
          "COL",
          "UKR",
          "MOZ",
          "LVA",
          "SVN",
          "SVK",
          "THA",
          "CYP",
          "TWN",
          "MYS",
          "URY",
          "PER",
          "SGP",
          "LBN",
          "EGY",
          "TUN",
          "ECU",
          "JOR",
          "CRI",
          "BLR",
          "PHL",
          "SAU",
          "OMN",
          "IRQ",
          "VEN",
          "KAZ",
          "NGA",
          "MLT",
          "CPV",
          "IDN",
          "CMR",
          "BIH",
          "PRI",
          "ALB",
          "KWT",
          "BOL",
          "PAN",
          "ARE",
          "GNB",
          "MKD",
          "LBY",
          "CUB",
          "AZE",
          "GEO",
          "GIB",
          "LKA",
          "VNM",
          "MUS",
          "ARM",
          "JAM",
          "DOM",
          "CAF",
          "SUR",
          "PAK",
          "GTM",
          "KEN",
          "BRB",
          "CIV",
          "PRY",
          "QAT",
          "SYR",
          "MCO",
          "SEN",
          "HKG",
          "BGD",
          "MNE",
          "MDV",
          "ABW",
          "RWA",
          "SLV",
          "TZA",
          "GAB",
          "TMP",
          "GHA",
          "ATA",
          "LIE",
          "LAO",
          "MWI",
          "ETH",
          "TGO",
          "ZWE",
          "COM",
          "AND",
          "UZB",
          "UGA",
          "STP",
          "KNA",
          "MAC",
          "MRT",
          "BWA",
          "SMR",
          "ZMB",
          "ASM",
          "NCL",
          "GUY",
          "KIR",
          "SDN",
          "ATF",
          "TJK",
          "SLE",
          "CYM",
          "LCA",
          "PYF",
          "BHS",
          "DMA",
          "MMR",
          "AIA",
          "BDI",
          "BFA",
          "PLW",
          "SYC",
          "MDG",
          "NAM",
          "BHR",
          "DJI",
          "MLI",
          "NPL",
          "FRO"
         ]
        },
        {
         "domain": {
          "x": [
           0.7111111111111111,
           1
          ],
          "y": [
           0,
           1
          ]
         },
         "labels": [
          [
           "PRT",
           27519
          ],
          [
           "GBR",
           2453
          ],
          [
           "ESP",
           2177
          ],
          [
           "FRA",
           1934
          ],
          [
           "ITA",
           1333
          ],
          [
           "DEU",
           1218
          ],
          [
           "IRL",
           832
          ],
          [
           "BRA",
           830
          ],
          [
           "USA",
           501
          ],
          [
           "BEL",
           474
          ],
          [
           "CHN",
           462
          ],
          [
           "CHE",
           428
          ],
          [
           "NLD",
           387
          ],
          [
           "CN",
           254
          ],
          [
           "RUS",
           239
          ],
          [
           "AUT",
           230
          ],
          [
           "SWE",
           227
          ],
          [
           "POL",
           215
          ],
          [
           "AGO",
           205
          ],
          [
           "NOR",
           181
          ],
          [
           "ISR",
           169
          ],
          [
           "ROU",
           134
          ],
          [
           "DNK",
           109
          ],
          [
           "LUX",
           109
          ],
          [
           "MAR",
           109
          ],
          [
           "AUS",
           107
          ],
          [
           "TUR",
           102
          ],
          [
           "HUN",
           77
          ],
          [
           "FIN",
           69
          ],
          [
           "others",
           67
          ],
          [
           "KOR",
           55
          ],
          [
           "ARG",
           54
          ],
          [
           "ARE",
           43
          ],
          [
           "CZE",
           37
          ],
          [
           "IND",
           35
          ],
          [
           "GRC",
           35
          ],
          [
           "SAU",
           33
          ],
          [
           "ZAF",
           31
          ],
          [
           "JPN",
           28
          ],
          [
           "HKG",
           26
          ],
          [
           "PHL",
           25
          ],
          [
           "HRV",
           25
          ],
          [
           "IDN",
           24
          ],
          [
           "SVK",
           24
          ],
          [
           "IRN",
           23
          ],
          [
           "COL",
           23
          ],
          [
           "DZA",
           21
          ],
          [
           "NGA",
           21
          ],
          [
           "UKR",
           20
          ],
          [
           "MOZ",
           19
          ],
          [
           "TUN",
           19
          ],
          [
           "EST",
           18
          ],
          [
           "THA",
           18
          ],
          [
           "SGP",
           16
          ],
          [
           "CHL",
           16
          ],
          [
           "MAC",
           15
          ],
          [
           "SVN",
           15
          ],
          [
           "GEO",
           15
          ],
          [
           "TWN",
           14
          ],
          [
           "VEN",
           12
          ],
          [
           "CPV",
           12
          ],
          [
           "BGR",
           12
          ],
          [
           "GIB",
           11
          ],
          [
           "CYP",
           11
          ],
          [
           "QAT",
           11
          ],
          [
           "EGY",
           11
          ],
          [
           "MEX",
           10
          ],
          [
           "BLR",
           9
          ],
          [
           "MDV",
           9
          ],
          [
           "BGD",
           9
          ],
          [
           "URY",
           9
          ],
          [
           "PAK",
           9
          ],
          [
           "AZE",
           9
          ],
          [
           "LVA",
           9
          ],
          [
           "LBN",
           9
          ],
          [
           "JEY",
           8
          ],
          [
           "SEN",
           8
          ],
          [
           "DOM",
           8
          ],
          [
           "TJK",
           8
          ],
          [
           "ECU",
           8
          ],
          [
           "LTU",
           7
          ],
          [
           "NZL",
           6
          ],
          [
           "PER",
           6
          ],
          [
           "KWT",
           6
          ],
          [
           "MLT",
           5
          ],
          [
           "AND",
           5
          ],
          [
           "KAZ",
           5
          ],
          [
           "FRO",
           4
          ],
          [
           "BHR",
           4
          ],
          [
           "OMN",
           4
          ],
          [
           "ISL",
           4
          ],
          [
           "TZA",
           3
          ],
          [
           "GGY",
           3
          ],
          [
           "BIH",
           3
          ],
          [
           "BEN",
           3
          ],
          [
           "JOR",
           3
          ],
          [
           "MYS",
           3
          ],
          [
           "SRB",
           3
          ],
          [
           "GLP",
           2
          ],
          [
           "GHA",
           2
          ],
          [
           "KEN",
           2
          ],
          [
           "PRI",
           2
          ],
          [
           "VNM",
           2
          ],
          [
           "MKD",
           2
          ],
          [
           "MYT",
           2
          ],
          [
           "GAB",
           2
          ],
          [
           "CIV",
           2
          ],
          [
           "MNE",
           2
          ],
          [
           "ARM",
           2
          ],
          [
           "KHM",
           2
          ],
          [
           "IMN",
           2
          ],
          [
           "UZB",
           2
          ],
          [
           "ZWE",
           2
          ],
          [
           "ALB",
           2
          ],
          [
           "NIC",
           1
          ],
          [
           "TMP",
           1
          ],
          [
           "VGB",
           1
          ],
          [
           "MCO",
           1
          ],
          [
           "MUS",
           1
          ],
          [
           "LIE",
           1
          ],
          [
           "GNB",
           1
          ],
          [
           "ETH",
           1
          ],
          [
           "ZMB",
           1
          ],
          [
           "UMI",
           1
          ],
          [
           "HND",
           1
          ],
          [
           "FJI",
           1
          ],
          [
           "SYC",
           1
          ],
          [
           "CRI",
           1
          ]
         ],
         "marker": {
          "line": {
           "color": "black",
           "width": 0.5
          }
         },
         "textfont": {
          "size": 12
         },
         "textinfo": "label+percent+value",
         "textposition": "inside",
         "title": {
          "text": "Total Canceled Bookings Across Countries"
         },
         "type": "pie",
         "values": [
          "PRT",
          "GBR",
          "ESP",
          "FRA",
          "ITA",
          "DEU",
          "IRL",
          "BRA",
          "USA",
          "BEL",
          "CHN",
          "CHE",
          "NLD",
          "CN",
          "RUS",
          "AUT",
          "SWE",
          "POL",
          "AGO",
          "NOR",
          "ISR",
          "ROU",
          "DNK",
          "LUX",
          "MAR",
          "AUS",
          "TUR",
          "HUN",
          "FIN",
          "others",
          "KOR",
          "ARG",
          "ARE",
          "CZE",
          "IND",
          "GRC",
          "SAU",
          "ZAF",
          "JPN",
          "HKG",
          "PHL",
          "HRV",
          "IDN",
          "SVK",
          "IRN",
          "COL",
          "DZA",
          "NGA",
          "UKR",
          "MOZ",
          "TUN",
          "EST",
          "THA",
          "SGP",
          "CHL",
          "MAC",
          "SVN",
          "GEO",
          "TWN",
          "VEN",
          "CPV",
          "BGR",
          "GIB",
          "CYP",
          "QAT",
          "EGY",
          "MEX",
          "BLR",
          "MDV",
          "BGD",
          "URY",
          "PAK",
          "AZE",
          "LVA",
          "LBN",
          "JEY",
          "SEN",
          "DOM",
          "TJK",
          "ECU",
          "LTU",
          "NZL",
          "PER",
          "KWT",
          "MLT",
          "AND",
          "KAZ",
          "FRO",
          "BHR",
          "OMN",
          "ISL",
          "TZA",
          "GGY",
          "BIH",
          "BEN",
          "JOR",
          "MYS",
          "SRB",
          "GLP",
          "GHA",
          "KEN",
          "PRI",
          "VNM",
          "MKD",
          "MYT",
          "GAB",
          "CIV",
          "MNE",
          "ARM",
          "KHM",
          "IMN",
          "UZB",
          "ZWE",
          "ALB",
          "NIC",
          "TMP",
          "VGB",
          "MCO",
          "MUS",
          "LIE",
          "GNB",
          "ETH",
          "ZMB",
          "UMI",
          "HND",
          "FJI",
          "SYC",
          "CRI"
         ]
        }
       ],
       "layout": {
        "template": {
         "data": {
          "bar": [
           {
            "error_x": {
             "color": "#2a3f5f"
            },
            "error_y": {
             "color": "#2a3f5f"
            },
            "marker": {
             "line": {
              "color": "#E5ECF6",
              "width": 0.5
             },
             "pattern": {
              "fillmode": "overlay",
              "size": 10,
              "solidity": 0.2
             }
            },
            "type": "bar"
           }
          ],
          "barpolar": [
           {
            "marker": {
             "line": {
              "color": "#E5ECF6",
              "width": 0.5
             },
             "pattern": {
              "fillmode": "overlay",
              "size": 10,
              "solidity": 0.2
             }
            },
            "type": "barpolar"
           }
          ],
          "carpet": [
           {
            "aaxis": {
             "endlinecolor": "#2a3f5f",
             "gridcolor": "white",
             "linecolor": "white",
             "minorgridcolor": "white",
             "startlinecolor": "#2a3f5f"
            },
            "baxis": {
             "endlinecolor": "#2a3f5f",
             "gridcolor": "white",
             "linecolor": "white",
             "minorgridcolor": "white",
             "startlinecolor": "#2a3f5f"
            },
            "type": "carpet"
           }
          ],
          "choropleth": [
           {
            "colorbar": {
             "outlinewidth": 0,
             "ticks": ""
            },
            "type": "choropleth"
           }
          ],
          "contour": [
           {
            "colorbar": {
             "outlinewidth": 0,
             "ticks": ""
            },
            "colorscale": [
             [
              0,
              "#0d0887"
             ],
             [
              0.1111111111111111,
              "#46039f"
             ],
             [
              0.2222222222222222,
              "#7201a8"
             ],
             [
              0.3333333333333333,
              "#9c179e"
             ],
             [
              0.4444444444444444,
              "#bd3786"
             ],
             [
              0.5555555555555556,
              "#d8576b"
             ],
             [
              0.6666666666666666,
              "#ed7953"
             ],
             [
              0.7777777777777778,
              "#fb9f3a"
             ],
             [
              0.8888888888888888,
              "#fdca26"
             ],
             [
              1,
              "#f0f921"
             ]
            ],
            "type": "contour"
           }
          ],
          "contourcarpet": [
           {
            "colorbar": {
             "outlinewidth": 0,
             "ticks": ""
            },
            "type": "contourcarpet"
           }
          ],
          "heatmap": [
           {
            "colorbar": {
             "outlinewidth": 0,
             "ticks": ""
            },
            "colorscale": [
             [
              0,
              "#0d0887"
             ],
             [
              0.1111111111111111,
              "#46039f"
             ],
             [
              0.2222222222222222,
              "#7201a8"
             ],
             [
              0.3333333333333333,
              "#9c179e"
             ],
             [
              0.4444444444444444,
              "#bd3786"
             ],
             [
              0.5555555555555556,
              "#d8576b"
             ],
             [
              0.6666666666666666,
              "#ed7953"
             ],
             [
              0.7777777777777778,
              "#fb9f3a"
             ],
             [
              0.8888888888888888,
              "#fdca26"
             ],
             [
              1,
              "#f0f921"
             ]
            ],
            "type": "heatmap"
           }
          ],
          "heatmapgl": [
           {
            "colorbar": {
             "outlinewidth": 0,
             "ticks": ""
            },
            "colorscale": [
             [
              0,
              "#0d0887"
             ],
             [
              0.1111111111111111,
              "#46039f"
             ],
             [
              0.2222222222222222,
              "#7201a8"
             ],
             [
              0.3333333333333333,
              "#9c179e"
             ],
             [
              0.4444444444444444,
              "#bd3786"
             ],
             [
              0.5555555555555556,
              "#d8576b"
             ],
             [
              0.6666666666666666,
              "#ed7953"
             ],
             [
              0.7777777777777778,
              "#fb9f3a"
             ],
             [
              0.8888888888888888,
              "#fdca26"
             ],
             [
              1,
              "#f0f921"
             ]
            ],
            "type": "heatmapgl"
           }
          ],
          "histogram": [
           {
            "marker": {
             "pattern": {
              "fillmode": "overlay",
              "size": 10,
              "solidity": 0.2
             }
            },
            "type": "histogram"
           }
          ],
          "histogram2d": [
           {
            "colorbar": {
             "outlinewidth": 0,
             "ticks": ""
            },
            "colorscale": [
             [
              0,
              "#0d0887"
             ],
             [
              0.1111111111111111,
              "#46039f"
             ],
             [
              0.2222222222222222,
              "#7201a8"
             ],
             [
              0.3333333333333333,
              "#9c179e"
             ],
             [
              0.4444444444444444,
              "#bd3786"
             ],
             [
              0.5555555555555556,
              "#d8576b"
             ],
             [
              0.6666666666666666,
              "#ed7953"
             ],
             [
              0.7777777777777778,
              "#fb9f3a"
             ],
             [
              0.8888888888888888,
              "#fdca26"
             ],
             [
              1,
              "#f0f921"
             ]
            ],
            "type": "histogram2d"
           }
          ],
          "histogram2dcontour": [
           {
            "colorbar": {
             "outlinewidth": 0,
             "ticks": ""
            },
            "colorscale": [
             [
              0,
              "#0d0887"
             ],
             [
              0.1111111111111111,
              "#46039f"
             ],
             [
              0.2222222222222222,
              "#7201a8"
             ],
             [
              0.3333333333333333,
              "#9c179e"
             ],
             [
              0.4444444444444444,
              "#bd3786"
             ],
             [
              0.5555555555555556,
              "#d8576b"
             ],
             [
              0.6666666666666666,
              "#ed7953"
             ],
             [
              0.7777777777777778,
              "#fb9f3a"
             ],
             [
              0.8888888888888888,
              "#fdca26"
             ],
             [
              1,
              "#f0f921"
             ]
            ],
            "type": "histogram2dcontour"
           }
          ],
          "mesh3d": [
           {
            "colorbar": {
             "outlinewidth": 0,
             "ticks": ""
            },
            "type": "mesh3d"
           }
          ],
          "parcoords": [
           {
            "line": {
             "colorbar": {
              "outlinewidth": 0,
              "ticks": ""
             }
            },
            "type": "parcoords"
           }
          ],
          "pie": [
           {
            "automargin": true,
            "type": "pie"
           }
          ],
          "scatter": [
           {
            "fillpattern": {
             "fillmode": "overlay",
             "size": 10,
             "solidity": 0.2
            },
            "type": "scatter"
           }
          ],
          "scatter3d": [
           {
            "line": {
             "colorbar": {
              "outlinewidth": 0,
              "ticks": ""
             }
            },
            "marker": {
             "colorbar": {
              "outlinewidth": 0,
              "ticks": ""
             }
            },
            "type": "scatter3d"
           }
          ],
          "scattercarpet": [
           {
            "marker": {
             "colorbar": {
              "outlinewidth": 0,
              "ticks": ""
             }
            },
            "type": "scattercarpet"
           }
          ],
          "scattergeo": [
           {
            "marker": {
             "colorbar": {
              "outlinewidth": 0,
              "ticks": ""
             }
            },
            "type": "scattergeo"
           }
          ],
          "scattergl": [
           {
            "marker": {
             "colorbar": {
              "outlinewidth": 0,
              "ticks": ""
             }
            },
            "type": "scattergl"
           }
          ],
          "scattermapbox": [
           {
            "marker": {
             "colorbar": {
              "outlinewidth": 0,
              "ticks": ""
             }
            },
            "type": "scattermapbox"
           }
          ],
          "scatterpolar": [
           {
            "marker": {
             "colorbar": {
              "outlinewidth": 0,
              "ticks": ""
             }
            },
            "type": "scatterpolar"
           }
          ],
          "scatterpolargl": [
           {
            "marker": {
             "colorbar": {
              "outlinewidth": 0,
              "ticks": ""
             }
            },
            "type": "scatterpolargl"
           }
          ],
          "scatterternary": [
           {
            "marker": {
             "colorbar": {
              "outlinewidth": 0,
              "ticks": ""
             }
            },
            "type": "scatterternary"
           }
          ],
          "surface": [
           {
            "colorbar": {
             "outlinewidth": 0,
             "ticks": ""
            },
            "colorscale": [
             [
              0,
              "#0d0887"
             ],
             [
              0.1111111111111111,
              "#46039f"
             ],
             [
              0.2222222222222222,
              "#7201a8"
             ],
             [
              0.3333333333333333,
              "#9c179e"
             ],
             [
              0.4444444444444444,
              "#bd3786"
             ],
             [
              0.5555555555555556,
              "#d8576b"
             ],
             [
              0.6666666666666666,
              "#ed7953"
             ],
             [
              0.7777777777777778,
              "#fb9f3a"
             ],
             [
              0.8888888888888888,
              "#fdca26"
             ],
             [
              1,
              "#f0f921"
             ]
            ],
            "type": "surface"
           }
          ],
          "table": [
           {
            "cells": {
             "fill": {
              "color": "#EBF0F8"
             },
             "line": {
              "color": "white"
             }
            },
            "header": {
             "fill": {
              "color": "#C8D4E3"
             },
             "line": {
              "color": "white"
             }
            },
            "type": "table"
           }
          ]
         },
         "layout": {
          "annotationdefaults": {
           "arrowcolor": "#2a3f5f",
           "arrowhead": 0,
           "arrowwidth": 1
          },
          "autotypenumbers": "strict",
          "coloraxis": {
           "colorbar": {
            "outlinewidth": 0,
            "ticks": ""
           }
          },
          "colorscale": {
           "diverging": [
            [
             0,
             "#8e0152"
            ],
            [
             0.1,
             "#c51b7d"
            ],
            [
             0.2,
             "#de77ae"
            ],
            [
             0.3,
             "#f1b6da"
            ],
            [
             0.4,
             "#fde0ef"
            ],
            [
             0.5,
             "#f7f7f7"
            ],
            [
             0.6,
             "#e6f5d0"
            ],
            [
             0.7,
             "#b8e186"
            ],
            [
             0.8,
             "#7fbc41"
            ],
            [
             0.9,
             "#4d9221"
            ],
            [
             1,
             "#276419"
            ]
           ],
           "sequential": [
            [
             0,
             "#0d0887"
            ],
            [
             0.1111111111111111,
             "#46039f"
            ],
            [
             0.2222222222222222,
             "#7201a8"
            ],
            [
             0.3333333333333333,
             "#9c179e"
            ],
            [
             0.4444444444444444,
             "#bd3786"
            ],
            [
             0.5555555555555556,
             "#d8576b"
            ],
            [
             0.6666666666666666,
             "#ed7953"
            ],
            [
             0.7777777777777778,
             "#fb9f3a"
            ],
            [
             0.8888888888888888,
             "#fdca26"
            ],
            [
             1,
             "#f0f921"
            ]
           ],
           "sequentialminus": [
            [
             0,
             "#0d0887"
            ],
            [
             0.1111111111111111,
             "#46039f"
            ],
            [
             0.2222222222222222,
             "#7201a8"
            ],
            [
             0.3333333333333333,
             "#9c179e"
            ],
            [
             0.4444444444444444,
             "#bd3786"
            ],
            [
             0.5555555555555556,
             "#d8576b"
            ],
            [
             0.6666666666666666,
             "#ed7953"
            ],
            [
             0.7777777777777778,
             "#fb9f3a"
            ],
            [
             0.8888888888888888,
             "#fdca26"
            ],
            [
             1,
             "#f0f921"
            ]
           ]
          },
          "colorway": [
           "#636efa",
           "#EF553B",
           "#00cc96",
           "#ab63fa",
           "#FFA15A",
           "#19d3f3",
           "#FF6692",
           "#B6E880",
           "#FF97FF",
           "#FECB52"
          ],
          "font": {
           "color": "#2a3f5f"
          },
          "geo": {
           "bgcolor": "white",
           "lakecolor": "white",
           "landcolor": "#E5ECF6",
           "showlakes": true,
           "showland": true,
           "subunitcolor": "white"
          },
          "hoverlabel": {
           "align": "left"
          },
          "hovermode": "closest",
          "mapbox": {
           "style": "light"
          },
          "paper_bgcolor": "white",
          "plot_bgcolor": "#E5ECF6",
          "polar": {
           "angularaxis": {
            "gridcolor": "white",
            "linecolor": "white",
            "ticks": ""
           },
           "bgcolor": "#E5ECF6",
           "radialaxis": {
            "gridcolor": "white",
            "linecolor": "white",
            "ticks": ""
           }
          },
          "scene": {
           "xaxis": {
            "backgroundcolor": "#E5ECF6",
            "gridcolor": "white",
            "gridwidth": 2,
            "linecolor": "white",
            "showbackground": true,
            "ticks": "",
            "zerolinecolor": "white"
           },
           "yaxis": {
            "backgroundcolor": "#E5ECF6",
            "gridcolor": "white",
            "gridwidth": 2,
            "linecolor": "white",
            "showbackground": true,
            "ticks": "",
            "zerolinecolor": "white"
           },
           "zaxis": {
            "backgroundcolor": "#E5ECF6",
            "gridcolor": "white",
            "gridwidth": 2,
            "linecolor": "white",
            "showbackground": true,
            "ticks": "",
            "zerolinecolor": "white"
           }
          },
          "shapedefaults": {
           "line": {
            "color": "#2a3f5f"
           }
          },
          "ternary": {
           "aaxis": {
            "gridcolor": "white",
            "linecolor": "white",
            "ticks": ""
           },
           "baxis": {
            "gridcolor": "white",
            "linecolor": "white",
            "ticks": ""
           },
           "bgcolor": "#E5ECF6",
           "caxis": {
            "gridcolor": "white",
            "linecolor": "white",
            "ticks": ""
           }
          },
          "title": {
           "x": 0.05
          },
          "xaxis": {
           "automargin": true,
           "gridcolor": "white",
           "linecolor": "white",
           "ticks": "",
           "title": {
            "standoff": 15
           },
           "zerolinecolor": "white",
           "zerolinewidth": 2
          },
          "yaxis": {
           "automargin": true,
           "gridcolor": "white",
           "linecolor": "white",
           "ticks": "",
           "title": {
            "standoff": 15
           },
           "zerolinecolor": "white",
           "zerolinewidth": 2
          }
         }
        }
       }
      }
     },
     "metadata": {},
     "output_type": "display_data"
    }
   ],
   "source": [
    "fig = make_subplots(rows=1, cols=3, specs=[[{\"type\": \"pie\"}, {\"type\": \"pie\"}, {\"type\": \"pie\"}]])\n",
    "\n",
    "# 1 Visualising the number of bookings by country\n",
    "fig.add_trace(go.Pie(labels = total_country_data.values.tolist(), \n",
    "                      values=total_country_data['guest_count'].values.tolist(), \n",
    "                      title='Number of bookings by country'), 1, 1)\n",
    "\n",
    "# 2. Visualising the number of confirmed(non-cancelled) bookings by country\n",
    "fig.add_trace(go.Pie(labels = total_country_data_confirmed.values.tolist(), \n",
    "                     values=total_country_data_confirmed['guest_count_confirmed'].values.tolist(), \n",
    "                     title = 'Total Confirmed Bookings Across Countries'), 1, 2)\n",
    "\n",
    "# 3. Visualising the number of cancelled bookings by country\n",
    "fig.add_trace(go.Pie(labels = total_country_data_canceled.values.tolist(), \n",
    "                    values=total_country_data_canceled['guest_count_canceled'].values.tolist(), \n",
    "                    title = 'Total Canceled Bookings Across Countries'), 1, 3)\n",
    "\n",
    "# Update the traces\n",
    "fig.update_traces(textposition=\"inside\", textinfo=\"label+percent+value\",textfont_size=12,\n",
    "                  marker=dict(line=dict(color='black', width=0.5)))\n",
    "\n",
    "fig.show()\n"
   ]
  },
  {
   "cell_type": "code",
   "execution_count": null,
   "metadata": {},
   "outputs": [],
   "source": []
  }
 ],
 "metadata": {
  "kernelspec": {
   "display_name": "Python 3",
   "language": "python",
   "name": "python3"
  },
  "language_info": {
   "codemirror_mode": {
    "name": "ipython",
    "version": 3
   },
   "file_extension": ".py",
   "mimetype": "text/x-python",
   "name": "python",
   "nbconvert_exporter": "python",
   "pygments_lexer": "ipython3",
   "version": "3.11.2"
  },
  "orig_nbformat": 4
 },
 "nbformat": 4,
 "nbformat_minor": 2
}
